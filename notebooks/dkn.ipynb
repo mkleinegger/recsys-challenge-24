{
 "cells": [
  {
   "cell_type": "markdown",
   "id": "5d07961b",
   "metadata": {},
   "source": [
    "<i>Copyright (c) Recommenders contributors.</i>\n",
    "\n",
    "<i>Licensed under the MIT License.</i>"
   ]
  },
  {
   "cell_type": "code",
   "execution_count": null,
   "id": "4acc5285",
   "metadata": {},
   "outputs": [],
   "source": [
    "# !cd .. && pip install -e ."
   ]
  },
  {
   "cell_type": "markdown",
   "id": "44b6a492",
   "metadata": {},
   "source": [
    "# DKN : Deep Knowledge-Aware Network for News Recommendation\n",
    "\n",
    "DKN \\[1\\] is a deep learning model which incorporates information from knowledge graph for better news recommendation. Specifically, DKN uses TransX \\[2\\] method for knowledge graph representation learning, then applies a CNN framework, named KCNN, to combine entity embedding with word embedding and generate a final embedding vector for a news article. CTR prediction is made via an attention-based neural scorer. \n",
    "\n",
    "## Properties of DKN:\n",
    "\n",
    "- DKN is a content-based deep model for CTR prediction rather than traditional ID-based collaborative filtering. \n",
    "- It makes use of knowledge entities and common sense in news content via joint learning from semantic-level and knowledge-level representations of news articles.\n",
    "- DKN uses an attention module to dynamically calculate a user's aggregated historical representation.\n",
    "\n",
    "\n",
    "## Data format\n",
    "\n",
    "DKN takes several files as input as follows:\n",
    "\n",
    "- **training / validation / test files**: each line in these files represents one instance. Impressionid is used to evaluate performance within an impression session, so it is only used when evaluating, you can set it to 0 for training data. The format is : <br> \n",
    "`[label] [userid] [CandidateNews]%[impressionid] `<br> \n",
    "e.g., `1 train_U1 N1%0` <br> \n",
    "\n",
    "- **user history file**: each line in this file represents a users' click history. You need to set `history_size` parameter in the config file, which is the max number of user's click history we use. We will automatically keep the last `history_size` number of user click history, if user's click history is more than `history_size`, and we will automatically pad with 0 if user's click history is less than `history_size`. the format is : <br> \n",
    "`[Userid] [newsid1,newsid2...]`<br>\n",
    "e.g., `train_U1 N1,N2` <br> \n",
    "\n",
    "- **document feature file**: It contains the word and entity features for news articles. News articles are represented by aligned title words and title entities. To take a quick example, a news title may be: <i>\"Trump to deliver State of the Union address next week\"</i>, then the title words value may be `CandidateNews:34,45,334,23,12,987,3456,111,456,432` and the title entitie value may be: `entity:45,0,0,0,0,0,0,0,0,0`. Only the first value of entity vector is non-zero due to the word \"Trump\". The title value and entity value is hashed from 1 to `n` (where `n` is the number of distinct words or entities). Each feature length should be fixed at k (`doc_size` parameter), if the number of words in document is more than k, you should truncate the document to k words, and if the number of words in document is less than k, you should pad 0 to the end. \n",
    "the format is like: <br> \n",
    "`[Newsid] [w1,w2,w3...wk] [e1,e2,e3...ek]`\n",
    "\n",
    "- **word embedding/entity embedding/ context embedding files**: These are `*.npy` files of pretrained embeddings. After loading, each file is a `[n+1,k]` two-dimensional matrix, n is the number of words(or entities) of their hash dictionary, k is dimension of the embedding, note that we keep embedding 0 for zero padding. \n",
    "\n",
    "In this experiment, we used GloVe\\[4\\] vectors to initialize the word embedding. We trained entity embedding using TransE\\[2\\] on knowledge graph and context embedding is the average of the entity's neighbors in the knowledge graph.<br>\n",
    "\n",
    "## MIND dataset\n",
    "\n",
    "MIND dataset\\[3\\] is a large-scale English news dataset. It was collected from anonymized behavior logs of Microsoft News website. MIND contains 1,000,000 users, 161,013 news articles and 15,777,377 impression logs. Every news article contains rich textual content including title, abstract, body, category and entities. Each impression log contains the click events, non-clicked events and historical news click behaviors of this user before this impression.\n",
    "\n",
    "A smaller version, [MIND-small](https://azure.microsoft.com/en-us/services/open-datasets/catalog/microsoft-news-dataset/), is a small version of the MIND dataset by randomly sampling 50,000 users and their behavior logs from the MIND dataset.\n",
    "\n",
    "The datasets contains these files for both training and validation data:\n",
    "\n",
    "#### behaviors.tsv\n",
    "\n",
    "The behaviors.tsv file contains the impression logs and users' news click hostories. It has 5 columns divided by the tab symbol:\n",
    "\n",
    "+ Impression ID. The ID of an impression.\n",
    "+ User ID. The anonymous ID of a user.\n",
    "+ Time. The impression time with format \"MM/DD/YYYY HH:MM:SS AM/PM\".\n",
    "+ History. The news click history (ID list of clicked news) of this user before this impression.\n",
    "+ Impressions. List of news displayed in this impression and user's click behaviors on them (1 for click and 0 for non-click).\n",
    "\n",
    "One simple example: \n",
    "\n",
    "`1    U82271    11/11/2019 3:28:58 PM    N3130 N11621 N12917 N4574 N12140 N9748    N13390-0 N7180-0 N20785-0 N6937-0 N15776-0 N25810-0 N20820-0 N6885-0 N27294-0 N18835-0 N16945-0 N7410-0 N23967-0 N22679-0 N20532-0 N26651-0 N22078-0 N4098-0 N16473-0 N13841-0 N15660-0 N25787-0 N2315-0 N1615-0 N9087-0 N23880-0 N3600-0 N24479-0 N22882-0 N26308-0 N13594-0 N2220-0 N28356-0 N17083-0 N21415-0 N18671-0 N9440-0 N17759-0 N10861-0 N21830-0 N8064-0 N5675-0 N15037-0 N26154-0 N15368-1 N481-0 N3256-0 N20663-0 N23940-0 N7654-0 N10729-0 N7090-0 N23596-0 N15901-0 N16348-0 N13645-0 N8124-0 N20094-0 N27774-0 N23011-0 N14832-0 N15971-0 N27729-0 N2167-0 N11186-0 N18390-0 N21328-0 N10992-0 N20122-0 N1958-0 N2004-0 N26156-0 N17632-0 N26146-0 N17322-0 N18403-0 N17397-0 N18215-0 N14475-0 N9781-0 N17958-0 N3370-0 N1127-0 N15525-0 N12657-0 N10537-0 N18224-0 `\n",
    "\n",
    "#### news.tsv\n",
    "\n",
    "The news.tsv file contains the detailed information of news articles involved in the behaviors.tsv file. It has 7 columns, which are divided by the tab symbol:\n",
    "\n",
    "+ News ID\n",
    "+ Category\n",
    "+ SubCategory\n",
    "+ Title\n",
    "+ Abstract\n",
    "+ URL\n",
    "+ Title Entities (entities contained in the title of this news)\n",
    "+ Abstract Entities (entites contained in the abstract of this news)\n",
    "\n",
    "One simple example: \n",
    "\n",
    "`N46466    lifestyle    lifestyleroyals    The Brands Queen Elizabeth, Prince Charles, and Prince Philip Swear By    Shop the notebooks, jackets, and more that the royals can't live without.    https://www.msn.com/en-us/lifestyle/lifestyleroyals/the-brands-queen-elizabeth,-prince-charles,-and-prince-philip-swear-by/ss-AAGH0ET?ocid=chopendata    [{\"Label\": \"Prince Philip, Duke of Edinburgh\", \"Type\": \"P\", \"WikidataId\": \"Q80976\", \"Confidence\": 1.0, \"OccurrenceOffsets\": [48], \"SurfaceForms\": [\"Prince Philip\"]}, {\"Label\": \"Charles, Prince of Wales\", \"Type\": \"P\", \"WikidataId\": \"Q43274\", \"Confidence\": 1.0, \"OccurrenceOffsets\": [28], \"SurfaceForms\": [\"Prince Charles\"]}, {\"Label\": \"Elizabeth II\", \"Type\": \"P\", \"WikidataId\": \"Q9682\", \"Confidence\": 0.97, \"OccurrenceOffsets\": [11], \"SurfaceForms\": [\"Queen Elizabeth\"]}]    [] `\n",
    "\n",
    "#### entity_embedding.vec & relation_embedding.vec\n",
    "\n",
    "The entity_embedding.vec and relation_embedding.vec files contain the 100-dimensional embeddings of the entities and relations learned from the subgraph (from WikiData knowledge graph) by TransE method. In both files, the first column is the ID of entity/relation, and the other columns are the embedding vector values.\n",
    "\n",
    "One simple example: \n",
    "\n",
    "`Q42306013  0.014516 -0.106958 0.024590 ... -0.080382`\n",
    "\n",
    "\n",
    "## DKN architecture\n",
    "\n",
    "The following figure shows the architecture of DKN.\n",
    "\n",
    "![](https://recodatasets.z20.web.core.windows.net/images/dkn_architecture.png)\n",
    "\n",
    "DKN takes one piece of candidate news and one piece of a user’s clicked news as input. For each piece of news, a specially designed KCNN is used to process its title and generate an embedding vector. KCNN is an extension of traditional CNN that allows flexibility in incorporating symbolic knowledge from a knowledge graph into sentence representation learning. \n",
    "\n",
    "With the KCNN, we obtain a set of embedding vectors for a user’s clicked history. To get final embedding of the user with\n",
    "respect to the current candidate news, we use an attention-based method to automatically match the candidate news to each piece\n",
    "of his clicked news, and aggregate the user’s historical interests with different weights. The candidate news embedding and the user embedding are concatenated and fed into a deep neural network (DNN) to calculate the predicted probability that the user will click the candidate news."
   ]
  },
  {
   "cell_type": "markdown",
   "id": "e5b590ca",
   "metadata": {},
   "source": [
    "## Global settings and imports"
   ]
  },
  {
   "cell_type": "code",
   "execution_count": null,
   "id": "ffe25098",
   "metadata": {},
   "outputs": [],
   "source": [
    "import os\n",
    "import sys\n",
    "from tempfile import TemporaryDirectory\n",
    "import logging\n",
    "import numpy as np\n",
    "from pathlib import Path\n",
    "\n",
    "import tensorflow as tf\n",
    "tf.get_logger().setLevel('ERROR') # only show error messages\n",
    "\n",
    "logging.basicConfig(level=logging.INFO)\n",
    "LOG = logging.getLogger(__name__)\n",
    "LOG.setLevel(logging.INFO)\n",
    "\n",
    "# logging.basicConfig(level=logging.INFO)\n",
    "\n",
    "from pathlib import Path\n",
    "import polars as pl\n",
    "\n",
    "from recommenders.datasets.download_utils import maybe_download\n",
    "from recommenders.datasets.mind import (download_mind, \n",
    "                                     extract_mind, \n",
    "                                     read_clickhistory, \n",
    "                                     get_train_input, \n",
    "                                     get_valid_input, \n",
    "                                     get_user_history,\n",
    "                                     get_words_and_entities,\n",
    "                                     generate_embeddings) \n",
    "from recommenders.models.deeprec.deeprec_utils import prepare_hparams\n",
    "from recommenders.models.deeprec.models.dkn import DKN\n",
    "from recommenders.models.deeprec.io.dkn_iterator import DKNTextIterator\n",
    "from recommenders.utils.notebook_utils import store_metadata\n",
    "\n",
    "print(f\"System version: {sys.version}\")\n",
    "print(f\"Tensorflow version: {tf.__version__}\")"
   ]
  },
  {
   "cell_type": "code",
   "execution_count": null,
   "id": "b0474ac9",
   "metadata": {
    "tags": [
     "parameters"
    ]
   },
   "outputs": [],
   "source": [
    "# DKN parameters\n",
    "epochs = 2\n",
    "history_size = 5\n",
    "batch_size = 1000\n",
    "\n",
    "DATASET_NAME = \"small\" # one of: demo, small, large\n",
    "\n",
    "# Paths\n",
    "tmp_path = os.path.join(\"..\", \"tmp\")\n",
    "tmp_pathlib = Path(tmp_path)\n",
    "(tmp_pathlib / DATASET_NAME / \"validation\").mkdir(exist_ok=True, parents=True)\n",
    "(tmp_pathlib / DATASET_NAME / \"train\").mkdir(exist_ok=True, parents=True)\n",
    "\n",
    "\n",
    "\n",
    "test_raw_file = Path().resolve().parent/ \"downloads\" / \"ebnerd_testset\" / \"test\" / \"behaviors.parquet\"\n",
    "test_file = os.path.join(tmp_path, \"test_behavior.txt\")\n",
    "\n",
    "data_path = os.path.join(\"..\", \"downloads\", DATASET_NAME)\n",
    "train_file = os.path.join(tmp_path, DATASET_NAME, \"train\", \"behaviours.txt\")\n",
    "valid_file = os.path.join(tmp_path, DATASET_NAME, \"validation\", \"behaviours.txt\")\n",
    "user_history_file = os.path.join(tmp_path, DATASET_NAME, \"user_history.txt\")\n",
    "infer_embedding_file = os.path.join(tmp_path, DATASET_NAME, \"infer_embedding.txt\")\n",
    "\n",
    "LOG.info(tmp_path)"
   ]
  },
  {
   "cell_type": "markdown",
   "id": "0d7c7228",
   "metadata": {},
   "source": [
    "## Data preparation\n",
    "\n",
    "In this example, let's go through a real case on how to apply DKN on a raw news dataset from the very beginning. We will download a copy of open-source MIND dataset, in its original raw format. Then we will process the raw data files into DKN's input data format, which is stated previously. "
   ]
  },
  {
   "cell_type": "code",
   "execution_count": null,
   "id": "a5e2a861",
   "metadata": {
    "lines_to_next_cell": 2
   },
   "outputs": [],
   "source": [
    "def transform_behaviors(input_file: str, output_file: str, skip_impression=False):\n",
    "    LOG.info(f\"Starting transform_behaviors for input: {input_file}, writing to: {output_file}\")\n",
    "    df = (\n",
    "        pl.scan_parquet(input_file) \n",
    "        .select('article_ids_inview', 'article_ids_clicked', 'impression_id', 'user_id') \n",
    "        .with_columns(\n",
    "            pl.struct(['article_ids_inview', 'article_ids_clicked']) \n",
    "                .map_elements(lambda x: [(article, 1) if article in x['article_ids_clicked'] else (article, 0) for article in set(x['article_ids_inview'])]) \n",
    "                .alias('inview_label_combined')) \n",
    "        .select('impression_id', 'user_id', 'inview_label_combined') \n",
    "       # .head(n=13113) # first bad row when exploding both cols in one step\n",
    "       # .filter(pl.col(\"impression_id\") == 845918)\n",
    "        .explode(['inview_label_combined']) # workaround, got error when exploding both columns directly\n",
    "        .with_columns(pl.col('inview_label_combined').list[0].alias('article_id'))\n",
    "        .with_columns(pl.col('inview_label_combined').list[1].alias('label'))\n",
    "        .select('impression_id', 'user_id', 'article_id', 'label')\n",
    "    )\n",
    "\n",
    "    if skip_impression:\n",
    "        df = df.with_columns(pl.col('article_id').alias('article_impression'))\n",
    "    else:\n",
    "        df = df.with_columns(\n",
    "            pl.struct(['article_id', 'impression_id']) \\\n",
    "                .map_elements(lambda x: f\"{x['article_id']}%{x['impression_id']}\")\n",
    "                .alias('article_impression')) \\\n",
    "            .select('label', 'user_id', 'article_impression')\n",
    "    df.sink_csv(output_file, separator=' ', quote_style='never', include_header=False)"
   ]
  },
  {
   "cell_type": "code",
   "execution_count": null,
   "id": "3364711e",
   "metadata": {
    "lines_to_next_cell": 2
   },
   "outputs": [],
   "source": [
    "def transform_history(train_input_file: str, val_input_file: str, test_input_file, output_file: str):\n",
    "    LOG.info(f\"Starting transform_history for train input: {train_input_file} and validation input: {val_input_file}, writing to: {output_file}\")\n",
    "    df = (\n",
    "        pl.concat([\n",
    "            pl.scan_parquet(train_input_file),\n",
    "            pl.scan_parquet(val_input_file),\n",
    "            pl.scan_parquet(test_input_file)\n",
    "            ])\n",
    "        .select('user_id', 'article_id_fixed') #.collect()\n",
    "        .with_columns(pl.col('article_id_fixed').map_elements(lambda ids: ','.join(map(str, ids))).alias('article_id_fixed'))\n",
    "    )\n",
    "    df.sink_csv(output_file, separator=' ', quote_style='never', include_header=False)"
   ]
  },
  {
   "cell_type": "code",
   "execution_count": null,
   "id": "92d693b1",
   "metadata": {},
   "outputs": [],
   "source": [
    "pl.Config.set_streaming_chunk_size(5_000_000)\n",
    "force_reload = False\n",
    "\n",
    "if not Path(train_file).exists() or force_reload:\n",
    "    transform_behaviors(os.path.join(data_path, 'train', 'behaviors.parquet'), train_file)\n",
    "\n",
    "if not Path(valid_file).exists() or force_reload:\n",
    "    transform_behaviors(os.path.join(data_path, 'validation', 'behaviors.parquet'), valid_file)\n",
    "\n",
    "if not Path(user_history_file).exists() or force_reload:\n",
    "    transform_history(os.path.join(data_path, 'train', 'history.parquet'), os.path.join(data_path, 'validation', 'history.parquet'), os.path.join(\"../downloads/ebnerd_testset/test/history.parquet\"), user_history_file)"
   ]
  },
  {
   "cell_type": "code",
   "execution_count": null,
   "id": "ed74fc15",
   "metadata": {},
   "outputs": [],
   "source": [
    "pl.threadpool_size()\n",
    "# train_zip, valid_zip = download_mind(size=MIND_SIZE, dest_path=data_path)\n",
    "# train_path, valid_path = extract_mind(train_zip, valid_zip)"
   ]
  },
  {
   "cell_type": "code",
   "execution_count": null,
   "id": "12aea096",
   "metadata": {},
   "outputs": [],
   "source": [
    "# train_session, train_history = read_clickhistory(train_path, \"behaviors.tsv\")\n",
    "# valid_session, valid_history = read_clickhistory(valid_path, \"behaviors.tsv\")\n",
    "# get_train_input(train_session, train_file)\n",
    "# get_valid_input(valid_session, valid_file)\n",
    "# get_user_history(train_history, valid_history, user_history_file)"
   ]
  },
  {
   "cell_type": "code",
   "execution_count": null,
   "id": "70c3c21e",
   "metadata": {},
   "outputs": [],
   "source": [
    "# train_news = os.path.join(train_path, \"news.tsv\")\n",
    "# valid_news = os.path.join(valid_path, \"news.tsv\")\n",
    "# news_words, news_entities = get_words_and_entities(train_news, valid_news)"
   ]
  },
  {
   "cell_type": "code",
   "execution_count": null,
   "id": "6a205460",
   "metadata": {
    "lines_to_next_cell": 0
   },
   "outputs": [],
   "source": [
    "# train_entities = os.path.join(train_path, \"entity_embedding.vec\")\n",
    "# valid_entities = os.path.join(valid_path, \"entity_embedding.vec\")\n",
    "# news_feature_file, word_embeddings_file, entity_embeddings_file = generate_embeddings(\n",
    "#     data_path,\n",
    "#     news_words,\n",
    "#     news_entities,\n",
    "#     train_entities,\n",
    "#     valid_entities,\n",
    "#     max_sentence=10,\n",
    "#     word_embedding_dim=100,\n",
    "# )"
   ]
  },
  {
   "cell_type": "markdown",
   "id": "76e07aae",
   "metadata": {},
   "source": [
    "Format:\n",
    "`[Newsid] [w1,w2,w3...wk] [e1,e2,e3...ek]`"
   ]
  },
  {
   "cell_type": "code",
   "execution_count": null,
   "id": "12905115",
   "metadata": {
    "lines_to_next_cell": 0
   },
   "outputs": [],
   "source": [
    "\n",
    "from nltk import RegexpTokenizer\n",
    "\n",
    "def tokenize_articles(path: str):\n",
    "    # word_tokens_path = os.path.join(data_path, \"word_tokens.txt\")\n",
    "    tokenizer = RegexpTokenizer(r\"\\w+\")\n",
    "    articles = (\n",
    "        pl.concat([\n",
    "            pl.scan_parquet(path),])\n",
    "        .select(\"article_id\", \"title\")\n",
    "        .with_columns(pl.col(\"article_id\").cast(pl.String))\n",
    "        .with_columns(pl.col(\"title\").map_elements(lambda ids: tokenizer.tokenize(ids)).alias(\"word_tokens\"))\n",
    "        .with_columns(pl.col(\"title\").map_elements(lambda ids: []).alias(\"entities\")) # TODO: add entities in lambda\n",
    "        .drop(\"title\")\n",
    "    )\n",
    "\n",
    "    word_tokens = {}\n",
    "    entities = {}\n",
    "    for tup in articles.collect().iter_rows():\n",
    "        word_tokens[tup[0]] = tup[1]\n",
    "        entities[tup[0]] = tup[2]\n",
    "\n",
    "    return word_tokens, entities\n",
    "\n",
    "# articles.select(\"article_id\", \"word_tokens\").collect().write_csv(os.path.join(data_path, \"word_tokens.txt\"), separator=' ', quote_style='never', include_header=False)\n",
    "\n",
    "# articles.select(\"article_id\", \"entities\").collect().write_csv(entities, separator=' ', quote_style='never', include_header=False)\n",
    "\n",
    "entities_path = os.path.join(tmp_path, \"entities.txt\")\n",
    "\n",
    "dataset_articles = os.path.join(data_path, \"articles.parquet\")\n",
    "testset_articles = os.path.join(\"../downloads/ebnerd_testset/articles.parquet\")\n",
    "\n",
    "word_tokens, entities = tokenize_articles(testset_articles)\n",
    "\n",
    "Path(entities_path).touch()\n",
    "\n",
    "word_tokens"
   ]
  },
  {
   "cell_type": "markdown",
   "id": "9826591f",
   "metadata": {},
   "source": [
    "\n"
   ]
  },
  {
   "cell_type": "code",
   "execution_count": null,
   "id": "871d0a48",
   "metadata": {},
   "outputs": [],
   "source": [
    "news_feature_file, word_embeddings_file, entity_embeddings_file = generate_embeddings(\n",
    "    data_path,\n",
    "    word_tokens,\n",
    "    entities,\n",
    "    entities_path, # empty file for now\n",
    "    entities_path,\n",
    "    max_sentence=10,\n",
    "    word_embedding_dim=100,\n",
    ")"
   ]
  },
  {
   "cell_type": "code",
   "execution_count": null,
   "id": "0b80d267",
   "metadata": {},
   "outputs": [],
   "source": [
    "file = np.load(word_embeddings_file)\n",
    "file.shape\n",
    "file[1]"
   ]
  },
  {
   "cell_type": "markdown",
   "id": "8cc325b6",
   "metadata": {},
   "source": [
    "## Create hyper-parameters"
   ]
  },
  {
   "cell_type": "code",
   "execution_count": null,
   "id": "b246d55e",
   "metadata": {},
   "outputs": [],
   "source": [
    "yaml_file = maybe_download(url=\"https://recodatasets.z20.web.core.windows.net/deeprec/deeprec/dkn/dkn_MINDsmall.yaml\", \n",
    "                           work_directory=data_path)\n",
    "hparams = prepare_hparams(yaml_file,\n",
    "                          show_step=100,\n",
    "                          news_feature_file=news_feature_file,\n",
    "                          user_history_file=user_history_file,\n",
    "                          wordEmb_file=word_embeddings_file,\n",
    "                          entityEmb_file=entity_embeddings_file,\n",
    "                          epochs=epochs,\n",
    "                          save_model=True,\n",
    "                          MODEL_DIR=\"../tmp/model\",\n",
    "                          history_size=history_size,\n",
    "                          batch_size=batch_size)"
   ]
  },
  {
   "cell_type": "markdown",
   "id": "672245ee",
   "metadata": {},
   "source": [
    "## Train the DKN model"
   ]
  },
  {
   "cell_type": "code",
   "execution_count": null,
   "id": "9b9e0bab",
   "metadata": {},
   "outputs": [],
   "source": [
    "model = DKN(hparams, DKNTextIterator)"
   ]
  },
  {
   "cell_type": "markdown",
   "id": "3e48cd93",
   "metadata": {
    "lines_to_next_cell": 0
   },
   "source": [
    "small:   2_585_747\n",
    "large: 133_810_641\n",
    "--> factor of 51 between small & large\n",
    "\n",
    "on small:\n",
    "    batch 1000 -> 2600 steps\n",
    "    hist 50\n",
    "    takes 50 min / epoch\n",
    "\n",
    "on small:\n",
    "    batch 1000\n",
    "    hist 5\n",
    "    takes 10 min / epoch"
   ]
  },
  {
   "cell_type": "code",
   "execution_count": null,
   "id": "39f349db",
   "metadata": {},
   "outputs": [],
   "source": [
    "model.fit(train_file, valid_file)"
   ]
  },
  {
   "cell_type": "markdown",
   "id": "525dfd51",
   "metadata": {},
   "source": [
    "## Evaluate the DKN model"
   ]
  },
  {
   "cell_type": "code",
   "execution_count": null,
   "id": "7c9290d8",
   "metadata": {
    "lines_to_next_cell": 2
   },
   "outputs": [],
   "source": [
    "pl.scan_parquet(str(test_raw_file)).select( \"article_ids_inview\", \"impression_id\", \"user_id\").head().collect()"
   ]
  },
  {
   "cell_type": "code",
   "execution_count": null,
   "id": "4f50b3d3",
   "metadata": {},
   "outputs": [],
   "source": [
    "valid_file\n",
    "\n",
    "def transform_behaviors_test(input_file: str, output_file: str):\n",
    "    LOG.info(f\"Starting transform_behaviors for input: {input_file}, writing to: {output_file}\")\n",
    "    df = (\n",
    "        pl.scan_parquet(input_file) \n",
    "            .select('article_ids_inview', 'impression_id', 'user_id') \n",
    "            .explode(['article_ids_inview'])\n",
    "            .rename({'article_ids_inview': 'article_id'}) \n",
    "            .select('impression_id', 'user_id', 'article_id')\n",
    "    )\n",
    "    df = df.with_columns(\n",
    "        pl.struct(['article_id', 'impression_id']) \n",
    "            .map_elements(lambda x: f\"{x['article_id']}%{x['impression_id']}\")\n",
    "            .alias('article_impression')) \\\n",
    "        .with_columns(label = pl.lit(0)) \\\n",
    "        .select('label', 'user_id', 'article_impression')\n",
    "    df.sink_csv(output_file, separator=' ', quote_style='never', include_header=False)\n",
    "\n",
    "#    df = (\n",
    "#        pl.scan_parquet(input_file)\n",
    "#            .select('article_ids_inview', 'impression_id', 'user_id')\n",
    "#            .collect()\n",
    "#            .explode(['article_ids_inview'])\n",
    "#    )\n",
    "#\n",
    "#    if skip_impression:\n",
    "#        df = df.with_columns(pl.col('article_ids_inview').alias('article_impression'))\n",
    "#    else:\n",
    "#        df = df.with_columns(\n",
    "#            pl.struct(['article_ids_inview', 'impression_id'])\n",
    "#                .map_elements(lambda x: f\"{x['article_ids_inview']}%{x['impression_id']}\")\n",
    "#                .alias('article_impression')\n",
    "#        )\n",
    "#\n",
    "#    df = df.select('user_id', 'article_impression')\n",
    "#    df.write_csv(output_file, separator=' ', quote_style='never', include_header=False)\n",
    "\n",
    "if not Path(test_file).exists():\n",
    "    transform_behaviors_test(str(test_raw_file), test_file)"
   ]
  },
  {
   "cell_type": "code",
   "execution_count": null,
   "id": "16912c50",
   "metadata": {},
   "outputs": [],
   "source": [
    "res = model.run_eval(str(valid_file))\n",
    "print(res)"
   ]
  },
  {
   "cell_type": "code",
   "execution_count": null,
   "id": "b5268430",
   "metadata": {},
   "outputs": [],
   "source": [
    "prediction_file = \"../tmp/prediction.csv\"\n",
    "model.predict(str(test_file), prediction_file)\n",
    "\n",
    "# Record results for tests - ignore this cell\n",
    "# store_metadata(\"auc\", res[\"auc\"])\n",
    "# store_metadata(\"group_auc\", res[\"group_auc\"])\n",
    "# store_metadata(\"ndcg@5\", res[\"ndcg@5\"])\n",
    "# store_metadata(\"ndcg@10\", res[\"ndcg@10\"])\n",
    "# store_metadata(\"mean_mrr\", res[\"mean_mrr\"])"
   ]
  },
  {
   "cell_type": "code",
   "execution_count": null,
   "id": "293af976",
   "metadata": {},
   "outputs": [],
   "source": [
    "# model.saver.save()"
   ]
  },
  {
   "cell_type": "code",
   "execution_count": null,
   "id": "d1994406",
   "metadata": {
    "lines_to_next_cell": 0
   },
   "outputs": [],
   "source": [
    "prediction_file = \"../tmp/prediction_10000.csv\"\n",
    "test_file = \"../tmp/test_behavior_10000.txt\"\n",
    "df: pl.LazyFrame = (\n",
    "    pl.concat([\n",
    "        pl.scan_csv(prediction_file, has_header=False, new_columns=[\"score\"]),\n",
    "        pl.scan_csv(test_file, has_header=False, separator=\" \", new_columns=[\"label\", \"user\", \"article_impression\"],)],\n",
    "        how = \"horizontal\")\n",
    "    .with_columns([pl.col(\"article_impression\")\n",
    "        .str.split_exact(\"%\", 1)\n",
    "        .struct.rename_fields([\"article\", \"impression\"]).alias(\"split\")])\n",
    "    .unnest(\"split\")\n",
    "    .drop(\"article_impression\", \"user\", \"label\")\n",
    "    .with_columns(pl.col(\"article\").cast(int))\n",
    ")\n",
    "\n",
    "df = (df\n",
    "    .group_by(\"impression\")\n",
    "    .agg((pl.col(\"score\"), pl.col(\"article\")))\n",
    "    .sort(\"impression\")\n",
    ")\n",
    "\n",
    "df.head().collect()"
   ]
  },
  {
   "cell_type": "code",
   "execution_count": null,
   "id": "06f96952",
   "metadata": {},
   "outputs": [],
   "source": [
    "import numpy as np\n",
    "impression_article_raw = (\n",
    "    pl.concat(\n",
    "        [\n",
    "            pl.scan_parquet(test_raw_file)\n",
    "                .select('article_ids_inview', 'impression_id')\n",
    "                .filter(pl.col(\"impression_id\") == 11060633)\n",
    "                .sort(\"impression_id\", descending=False),\n",
    "            df\n",
    "        ], \n",
    "        how=\"horizontal\")\n",
    "    .with_columns(\n",
    "        pl.struct([pl.col(\"article_ids_inview\"), pl.col(\"article\")])\n",
    "        .map_elements(lambda row: row[\"article_ids_inview\"] == row[\"article\"])\n",
    "        .alias(\"joined\"))\n",
    "    .with_columns(\n",
    "        pl.col(\"score\")\n",
    "        .map_elements(lambda scores: [rank + 1 for rank, index in sorted(enumerate(np.argsort(np.array(scores))[::-1]), key=lambda el: el[1])])\n",
    "        .alias(\"ranking\"))\n",
    ")\n",
    "\n",
    "single_row = impression_article_raw.collect().select(\"ranking\", \"score\", \"article\").head(n=1).to_dicts()\n",
    "\n",
    "impression_article_raw.collect().head(n=1)"
   ]
  },
  {
   "cell_type": "code",
   "execution_count": null,
   "id": "91c21551",
   "metadata": {
    "lines_to_next_cell": 0
   },
   "outputs": [],
   "source": [
    "for i in range(len(single_row[0]['ranking'])):\n",
    "    print(f\"{single_row[0]['ranking'][i]}:\\t{single_row[0]['score'][i]}\\t{single_row[0]['article'][i]} \")"
   ]
  },
  {
   "cell_type": "code",
   "execution_count": null,
   "id": "6f877829",
   "metadata": {},
   "outputs": [],
   "source": [
    "impression_article_raw.select(\"impression\", \"ranking\") \\\n",
    "    .with_columns(pl.col(\"ranking\").map_elements(lambda el: str(el.to_list()))).collect().write_csv(\"../tmp/ranking.csv\")"
   ]
  },
  {
   "cell_type": "markdown",
   "id": "c8f5d122",
   "metadata": {},
   "source": [
    "## Document embedding inference API\n",
    "\n",
    "After training, you can get document embedding through this document embedding inference API. The input file format is same with document feature file. The output file fomrat is: `[Newsid] [embedding]`"
   ]
  },
  {
   "cell_type": "code",
   "execution_count": null,
   "id": "edf1ed8d",
   "metadata": {},
   "outputs": [],
   "source": [
    "model.run_get_embedding(news_feature_file, infer_embedding_file)"
   ]
  },
  {
   "cell_type": "markdown",
   "id": "c93b10c4",
   "metadata": {},
   "source": [
    "## Results on large MIND dataset\n",
    "\n",
    "Here are performances using the large MIND dataset (1,000,000 users, 161,013 news articles and 15,777,377 impression logs). \n",
    "\n",
    "| Models | g-AUC | MRR |NDCG@5 | NDCG@10 |\n",
    "| :------| :------: | :------: | :------: | :------ |\n",
    "| LibFM | 0.5993 | 0.2823 | 0.3005 | 0.3574 |\n",
    "| Wide&Deep | 0.6216 | 0.2931 | 0.3138 | 0.3712 |\n",
    "| DKN | 0.6436 | 0.3128 | 0.3371 | 0.3908|\n",
    "\n",
    "\n",
    "Note that the results of DKN are using Microsoft recommender and the results of the first two models come from the MIND paper \\[3\\].\n",
    "We compare the results on the same test dataset. \n",
    "\n",
    "One epoch takes 6381.3s (5066.6s for training, 1314.7s for evaluating) for DKN on GPU. Hardware specification for running the large dataset: <br>\n",
    "GPU: Tesla P100-PCIE-16GB <br>\n",
    "CPU: 6 cores Intel(R) Xeon(R) CPU E5-2690 v4 @ 2.60GHz"
   ]
  },
  {
   "cell_type": "markdown",
   "id": "fde67450",
   "metadata": {},
   "source": [
    "## References\n",
    "\n",
    "\\[1\\] Hongwei Wang, Fuzheng Zhang, Xing Xie and Minyi Guo, \"DKN: Deep Knowledge-Aware Network for News Recommendation\", in Proceedings of the 2018 World Wide Web Conference (WWW), 2018, https://arxiv.org/abs/1801.08284. <br>\n",
    "\\[2\\] Knowledge Graph Embeddings including TransE, TransH, TransR and PTransE. https://github.com/thunlp/KB2E <br>\n",
    "\\[3\\] Fangzhao Wu et al., \"MIND: A Large-scale Dataset for News Recommendation\", Proceedings of the 58th Annual Meeting of the Association for Computational Linguistics, 2020, https://msnews.github.io/competition.html. <br>\n",
    "\\[4\\] GloVe: Global Vectors for Word Representation. https://nlp.stanford.edu/projects/glove/"
   ]
  }
 ],
 "metadata": {
  "kernelspec": {
   "display_name": "Python 3.7.11 64-bit ('tf2': conda)",
   "language": "python",
   "name": "python3"
  }
 },
 "nbformat": 4,
 "nbformat_minor": 5
}
