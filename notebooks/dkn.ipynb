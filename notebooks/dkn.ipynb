{
 "cells": [
  {
   "cell_type": "markdown",
   "id": "7b598b21",
   "metadata": {
    "editable": true,
    "slideshow": {
     "slide_type": ""
    },
    "tags": []
   },
   "source": [
    "# DKN : Deep Knowledge-Aware Network for News Recommendation"
   ]
  },
  {
   "cell_type": "markdown",
   "id": "05340067",
   "metadata": {},
   "source": [
    "## Global settings and imports"
   ]
  },
  {
   "cell_type": "code",
   "execution_count": 1,
   "id": "df25eb37",
   "metadata": {
    "lines_to_next_cell": 2
   },
   "outputs": [],
   "source": [
    "%load_ext autoreload\n",
    "%autoreload 2"
   ]
  },
  {
   "cell_type": "code",
   "execution_count": 2,
   "id": "1106646d",
   "metadata": {},
   "outputs": [
    {
     "name": "stderr",
     "output_type": "stream",
     "text": [
      "2024-07-08 20:16:06.764966: E external/local_xla/xla/stream_executor/cuda/cuda_dnn.cc:9261] Unable to register cuDNN factory: Attempting to register factory for plugin cuDNN when one has already been registered\n",
      "2024-07-08 20:16:06.765041: E external/local_xla/xla/stream_executor/cuda/cuda_fft.cc:607] Unable to register cuFFT factory: Attempting to register factory for plugin cuFFT when one has already been registered\n",
      "2024-07-08 20:16:06.767604: E external/local_xla/xla/stream_executor/cuda/cuda_blas.cc:1515] Unable to register cuBLAS factory: Attempting to register factory for plugin cuBLAS when one has already been registered\n",
      "2024-07-08 20:16:06.782166: I tensorflow/core/platform/cpu_feature_guard.cc:182] This TensorFlow binary is optimized to use available CPU instructions in performance-critical operations.\n",
      "To enable the following instructions: AVX2 AVX512F FMA, in other operations, rebuild TensorFlow with the appropriate compiler flags.\n",
      "2024-07-08 20:16:08.192408: W tensorflow/compiler/tf2tensorrt/utils/py_utils.cc:38] TF-TRT Warning: Could not find TensorRT\n"
     ]
    },
    {
     "name": "stdout",
     "output_type": "stream",
     "text": [
      "System version: 3.11.8 | packaged by conda-forge | (main, Feb 16 2024, 20:53:32) [GCC 12.3.0]\n",
      "Tensorflow version: 2.15.0\n"
     ]
    }
   ],
   "source": [
    "import os\n",
    "import sys\n",
    "import logging\n",
    "from pathlib import Path\n",
    "import zipfile\n",
    "from time import time\n",
    "import polars as pl\n",
    "\n",
    "import tensorflow as tf\n",
    "tf.get_logger().setLevel('ERROR') # only show error messages\n",
    "\n",
    "logging.basicConfig(level=logging.INFO)\n",
    "LOG = logging.getLogger(__name__)\n",
    "LOG.setLevel(logging.INFO)\n",
    "\n",
    "from recommenders.datasets.download_utils import maybe_download\n",
    "from recommenders.models.deeprec.deeprec_utils import prepare_hparams\n",
    "from recommenders.models.deeprec.models.dkn import DKN\n",
    "from recommenders.models.deeprec.io.dkn_iterator import DKNTextIterator\n",
    "\n",
    "from group_33.util import train_test_split\n",
    "from group_33.dkn import transform_behaviors, transform_history, tokenize_articles, create_feature_file, transform_behaviors_test, calculate_rankings\n",
    "\n",
    "print(f\"System version: {sys.version}\")\n",
    "print(f\"Tensorflow version: {tf.__version__}\")"
   ]
  },
  {
   "cell_type": "code",
   "execution_count": 3,
   "id": "4594dec3",
   "metadata": {
    "editable": true,
    "slideshow": {
     "slide_type": ""
    },
    "tags": []
   },
   "outputs": [],
   "source": [
    "# DKN parameters\n",
    "epochs = 10\n",
    "history_size = 50\n",
    "batch_size = 1000\n",
    "\n",
    "DATASET_NAME = \"small\" # one of: demo, small, large\n",
    "GROUP_PATH = Path.home() / \"shared/194.035-2024S/groups/Gruppe_33/Group_33\"\n",
    "\n",
    "\n",
    "# prepare tmp dir\n",
    "tmp_path = GROUP_PATH / \"tmp\" / \"dkn\" #Path(\"..\", \"tmp\", \"dkn\")\n",
    "tmp_data_path = tmp_path / DATASET_NAME\n",
    "(tmp_data_path / \"validation\").mkdir(exist_ok=True, parents=True)\n",
    "(tmp_data_path / \"train\").mkdir(exist_ok=True, parents=True)\n",
    "(tmp_data_path / \"evaluation\").mkdir(exist_ok=True, parents=True)\n",
    "\n",
    "tmp_test_path = tmp_path / \"test\"\n",
    "tmp_test_path.mkdir(exist_ok=True, parents=True)\n",
    "\n",
    "# train & validation & evaluation\n",
    "data_path = GROUP_PATH / \"data\" / DATASET_NAME\n",
    "train_file = tmp_data_path / \"train\" / \"behaviours.txt\"\n",
    "valid_file = tmp_data_path / \"validation\" / \"behaviours.txt\"\n",
    "evaluation_file = tmp_data_path / \"evaluation\" / \"behaviors.txt\"\n",
    "user_history_file = tmp_data_path / \"user_history.txt\"\n",
    "articles_file = data_path / \"articles.parquet\"\n",
    "articles_tokenized_file = tmp_data_path / \"articles_tokenized.parquet\"\n",
    "word_embeddings_file = tmp_data_path / \"word_embeddings.npy\"\n",
    "entity_embeddings_file = tmp_data_path / \"entity_embeddings.npy\"\n",
    "context_embeddings_file = tmp_data_path / \"context_embeddings.npy\"\n",
    "news_feature_file = tmp_data_path / \"news_feature.txt\"\n",
    "infer_embedding_file = tmp_data_path / \"infer_embedding.txt\"\n",
    "\n",
    "# test\n",
    "test_raw_file = data_path / \"..\" / \"ebnerd_testset\" / \"test\" / \"behaviors.parquet\"\n",
    "test_file = tmp_test_path / \"behavior.txt\"\n",
    "test_articles_file = GROUP_PATH / \"data\" / \"test\" / \"articles.parquet\"\n",
    "test_articles_tokenized_file = tmp_test_path / \"articles_tokenized.parquet\"\n",
    "\n",
    "# prediction\n",
    "indexed_behaviors_file = tmp_data_path / \"indexed_behaviors.parquet\"\n",
    "scores_file = tmp_data_path / \"scores.txt\"\n",
    "predictions_file = tmp_data_path / \"predictions.txt\"\n",
    "\n",
    "LOG.info(data_path)\n",
    "LOG.info(tmp_path)\n",
    "\n",
    "pl.Config.set_tbl_rows(100)\n",
    "\n",
    "run_train = True if os.environ.get(\"TRAIN\") else False\n",
    "print(run_train)"
   ]
  },
  {
   "cell_type": "markdown",
   "id": "37110c1a",
   "metadata": {},
   "source": [
    "## Data preparation"
   ]
  },
  {
   "cell_type": "code",
   "execution_count": 4,
   "id": "5f4a48a4",
   "metadata": {},
   "outputs": [
    {
     "data": {
      "text/plain": [
       "array([-1.08683494e+00,  1.00016955e+00,  5.65126327e-01, -1.18931012e-01,\n",
       "        4.29616674e-01,  6.04400804e-01, -1.76152259e-01,  2.30443105e-01,\n",
       "        2.69060423e-02,  1.90025512e-01,  5.58039486e-02, -3.05032716e-01,\n",
       "        7.14906749e-01, -1.30265762e-01,  5.02504432e-01,  1.45054273e+00,\n",
       "        4.83627211e-02, -3.23556334e-01, -5.30043628e-01, -1.10440839e+00,\n",
       "       -9.31051620e-01, -6.29733293e-01, -8.72917512e-01,  1.29576482e+00,\n",
       "        8.90542467e-01,  1.53463695e-01,  4.87522537e-02, -4.03002256e-01,\n",
       "       -4.29287135e-01, -6.67051489e-01, -1.38137103e-01, -8.26372647e-01,\n",
       "       -2.51646338e-01,  2.54731861e-02, -3.92829812e-01,  8.01710678e-01,\n",
       "        4.68979134e-01, -1.37049981e-01, -5.95778783e-01, -6.10334950e-02,\n",
       "        4.29620545e-01, -9.37379515e-01, -6.25330604e-01, -7.16531807e-01,\n",
       "       -9.62215591e-02, -1.02356705e-01, -4.54664016e-01,  3.51949342e-01,\n",
       "       -3.81492264e-01, -1.60995698e-01,  1.22625123e-01,  4.72695653e-01,\n",
       "       -2.55172412e-01,  3.10049392e-01, -5.45093138e-01, -1.65311139e-01,\n",
       "        6.85248397e-02,  6.03359769e-01, -4.08635548e-01,  7.22764792e-01,\n",
       "       -8.61239981e-01, -2.35525583e-02,  5.27697640e-01,  6.53886153e-01,\n",
       "        6.83844787e-02, -2.64605230e-01, -5.02012355e-01, -3.50760812e-02,\n",
       "       -1.34017079e-01,  3.23464368e-01, -6.42972706e-01,  1.62213884e-01,\n",
       "       -1.24497468e-03, -4.86900895e-01,  3.47018236e-01,  4.52409301e-01,\n",
       "        8.20603810e-01,  6.36925674e-01,  7.34952673e-01, -7.60126836e-01,\n",
       "        3.71480766e-01,  1.72028522e-02, -2.50120614e-01, -2.29021536e-01,\n",
       "       -4.44611192e-01,  1.64663034e-01,  2.27833070e-01,  9.54940650e-01,\n",
       "       -3.83334285e-01,  6.06125085e-03, -9.32341002e-02, -5.47233926e-01,\n",
       "        3.68458727e-01,  1.69108814e-01,  4.66022200e-01,  9.59026465e-01,\n",
       "       -8.45509374e-02,  8.15283535e-01,  6.22652022e-01,  1.08781579e-01])"
      ]
     },
     "execution_count": 4,
     "metadata": {},
     "output_type": "execute_result"
    }
   ],
   "source": [
    "get_context_embedding(\"Q35\")"
   ]
  },
  {
   "cell_type": "code",
   "execution_count": 5,
   "id": "96269eb8",
   "metadata": {},
   "outputs": [],
   "source": [
    "if not (tmp_path / \"model.bin\").exists():\n",
    "    maybe_download(\"http://vectors.nlpl.eu/repository/20/38.zip\", tmp_path / \"word2vec.zip\")\n",
    "\n",
    "    with zipfile.ZipFile(tmp_path / \"word2vec.zip\", 'r') as zip_ref:\n",
    "        zip_ref.extractall(tmp_path)"
   ]
  },
  {
   "cell_type": "code",
   "execution_count": 6,
   "id": "68dafe10",
   "metadata": {
    "editable": true,
    "lines_to_next_cell": 2,
    "scrolled": true,
    "slideshow": {
     "slide_type": ""
    },
    "tags": []
   },
   "outputs": [],
   "source": [
    "from group_33.util import train_test_split\n",
    "pl.Config.set_streaming_chunk_size(500_000)\n",
    "force_reload = False\n",
    "\n",
    "if not train_file.exists() or force_reload:\n",
    "    train = transform_behaviors(pl.scan_parquet(data_path / 'train' / 'behaviors.parquet'))\n",
    "    train.sink_csv(train_file, separator=' ', quote_style='never', include_header=False)\n",
    "    # train_test.collect(streaming=True).write_csv(valid_file, separator=' ', quote_style='never', include_header=False)\n",
    "\n",
    "if not evaluation_file.exists() or force_reload:\n",
    "    validation_behaviors = pl.scan_parquet(data_path / 'validation' / 'behaviors.parquet')\n",
    "    validation, evaluation = train_test_split(validation_behaviors, 0.5)\n",
    "\n",
    "    validation_transformed = transform_behaviors(validation)\n",
    "    validation_transformed.collect(streaming=True).write_csv(evaluation_file, separator=' ', quote_style='never', include_header=False)\n",
    "\n",
    "    evaluation_transformed = transform_behaviors(evaluation)\n",
    "    evaluation_transformed.collect(streaming=True).write_csv(valid_file, separator=' ', quote_style='never', include_header=False)\n",
    "\n",
    "if not user_history_file.exists() or force_reload:\n",
    "    user_history = transform_history(\n",
    "        data_path / 'train' / 'history.parquet',\n",
    "        data_path / 'validation' / 'history.parquet',\n",
    "        data_path / '..' / 'ebnerd_testset' / 'test' / 'history.parquet'\n",
    "    )\n",
    "    user_history.sink_csv(user_history_file, separator=' ', quote_style='never', include_header=False)\n",
    "\n",
    "if not articles_tokenized_file.exists() or force_reload:\n",
    "    tokenize_articles(articles_file, articles_tokenized_file)\n",
    "\n",
    "if not test_articles_tokenized_file.exists() or force_reload:\n",
    "    tokenize_articles(test_articles_file, test_articles_tokenized_file)\n",
    "\n",
    "if not news_feature_file.exists() or force_reload:\n",
    "    create_feature_file(\n",
    "        tmp_path / \"model.bin\",\n",
    "        articles_tokenized_file, test_articles_tokenized_file,\n",
    "        word_embeddings_file, entity_embeddings_file,\n",
    "        context_embeddings_file, news_feature_file, 10\n",
    "    )"
   ]
  },
  {
   "cell_type": "markdown",
   "id": "8d96ceba",
   "metadata": {},
   "source": [
    "## Create hyper-parameters"
   ]
  },
  {
   "cell_type": "code",
   "execution_count": 7,
   "id": "7f2c8e69",
   "metadata": {
    "editable": true,
    "slideshow": {
     "slide_type": ""
    },
    "tags": []
   },
   "outputs": [],
   "source": [
    "yaml_file = maybe_download(url=\"https://recodatasets.z20.web.core.windows.net/deeprec/deeprec/dkn/dkn_MINDsmall.yaml\",\n",
    "                           work_directory=data_path)\n",
    "hparams = prepare_hparams(yaml_file,\n",
    "                          seed=33,\n",
    "                          show_step=100,\n",
    "                          news_feature_file=news_feature_file.as_posix(),\n",
    "                          user_history_file=user_history_file.as_posix(),\n",
    "                          wordEmb_file=word_embeddings_file.as_posix(),\n",
    "                          entityEmb_file=entity_embeddings_file.as_posix(),\n",
    "                          contextEmb_file=context_embeddings_file.as_posix(),\n",
    "                          epochs=epochs,\n",
    "                          save_model=True,\n",
    "                          MODEL_DIR=(tmp_path / \"model\" / f\"{int(time())}_e{epochs}_h{history_size}\").as_posix(),\n",
    "                          history_size=history_size,\n",
    "                          batch_size=batch_size)"
   ]
  },
  {
   "cell_type": "markdown",
   "id": "c30eebf3",
   "metadata": {
    "editable": true,
    "slideshow": {
     "slide_type": ""
    },
    "tags": []
   },
   "source": [
    "## Train the DKN model"
   ]
  },
  {
   "cell_type": "code",
   "execution_count": 9,
   "id": "e60fe3f5",
   "metadata": {},
   "outputs": [
    {
     "name": "stderr",
     "output_type": "stream",
     "text": [
      "/opt/conda/lib/python3.11/site-packages/recommenders/models/deeprec/models/dkn.py:305: UserWarning: `tf.layers.batch_normalization` is deprecated and will be removed in a future version. Please use `tf.keras.layers.BatchNormalization` instead. In particular, `tf.control_dependencies(tf.GraphKeys.UPDATE_OPS)` should not be used (consult the `tf.keras.layers.BatchNormalization` documentation).\n",
      "  curr_attention_layer = tf.compat.v1.layers.batch_normalization(\n",
      "2024-07-08 20:24:39.260401: I external/local_xla/xla/stream_executor/cuda/cuda_executor.cc:901] successful NUMA node read from SysFS had negative value (-1), but there must be at least one NUMA node, so returning NUMA node zero. See more at https://github.com/torvalds/linux/blob/v6.0/Documentation/ABI/testing/sysfs-bus-pci#L344-L355\n",
      "2024-07-08 20:24:39.276302: I external/local_xla/xla/stream_executor/cuda/cuda_executor.cc:901] successful NUMA node read from SysFS had negative value (-1), but there must be at least one NUMA node, so returning NUMA node zero. See more at https://github.com/torvalds/linux/blob/v6.0/Documentation/ABI/testing/sysfs-bus-pci#L344-L355\n",
      "2024-07-08 20:24:39.279703: I external/local_xla/xla/stream_executor/cuda/cuda_executor.cc:901] successful NUMA node read from SysFS had negative value (-1), but there must be at least one NUMA node, so returning NUMA node zero. See more at https://github.com/torvalds/linux/blob/v6.0/Documentation/ABI/testing/sysfs-bus-pci#L344-L355\n",
      "2024-07-08 20:24:39.284994: I external/local_xla/xla/stream_executor/cuda/cuda_executor.cc:901] successful NUMA node read from SysFS had negative value (-1), but there must be at least one NUMA node, so returning NUMA node zero. See more at https://github.com/torvalds/linux/blob/v6.0/Documentation/ABI/testing/sysfs-bus-pci#L344-L355\n",
      "2024-07-08 20:24:39.288246: I external/local_xla/xla/stream_executor/cuda/cuda_executor.cc:901] successful NUMA node read from SysFS had negative value (-1), but there must be at least one NUMA node, so returning NUMA node zero. See more at https://github.com/torvalds/linux/blob/v6.0/Documentation/ABI/testing/sysfs-bus-pci#L344-L355\n",
      "2024-07-08 20:24:39.291395: I external/local_xla/xla/stream_executor/cuda/cuda_executor.cc:901] successful NUMA node read from SysFS had negative value (-1), but there must be at least one NUMA node, so returning NUMA node zero. See more at https://github.com/torvalds/linux/blob/v6.0/Documentation/ABI/testing/sysfs-bus-pci#L344-L355\n",
      "2024-07-08 20:24:39.501700: I external/local_xla/xla/stream_executor/cuda/cuda_executor.cc:901] successful NUMA node read from SysFS had negative value (-1), but there must be at least one NUMA node, so returning NUMA node zero. See more at https://github.com/torvalds/linux/blob/v6.0/Documentation/ABI/testing/sysfs-bus-pci#L344-L355\n",
      "2024-07-08 20:24:39.503886: I external/local_xla/xla/stream_executor/cuda/cuda_executor.cc:901] successful NUMA node read from SysFS had negative value (-1), but there must be at least one NUMA node, so returning NUMA node zero. See more at https://github.com/torvalds/linux/blob/v6.0/Documentation/ABI/testing/sysfs-bus-pci#L344-L355\n",
      "2024-07-08 20:24:39.505886: I external/local_xla/xla/stream_executor/cuda/cuda_executor.cc:901] successful NUMA node read from SysFS had negative value (-1), but there must be at least one NUMA node, so returning NUMA node zero. See more at https://github.com/torvalds/linux/blob/v6.0/Documentation/ABI/testing/sysfs-bus-pci#L344-L355\n",
      "2024-07-08 20:24:39.507725: I tensorflow/core/common_runtime/gpu/gpu_device.cc:1929] Created device /job:localhost/replica:0/task:0/device:GPU:0 with 13775 MB memory:  -> device: 0, name: Tesla T4, pci bus id: 0000:06:00.0, compute capability: 7.5\n",
      "/opt/conda/lib/python3.11/site-packages/recommenders/models/deeprec/models/dkn.py:193: UserWarning: `tf.layers.batch_normalization` is deprecated and will be removed in a future version. Please use `tf.keras.layers.BatchNormalization` instead. In particular, `tf.control_dependencies(tf.GraphKeys.UPDATE_OPS)` should not be used (consult the `tf.keras.layers.BatchNormalization` documentation).\n",
      "  curr_hidden_nn_layer = tf.compat.v1.layers.batch_normalization(\n",
      "2024-07-08 20:24:41.174029: I external/local_xla/xla/stream_executor/cuda/cuda_executor.cc:901] successful NUMA node read from SysFS had negative value (-1), but there must be at least one NUMA node, so returning NUMA node zero. See more at https://github.com/torvalds/linux/blob/v6.0/Documentation/ABI/testing/sysfs-bus-pci#L344-L355\n",
      "2024-07-08 20:24:41.176683: I external/local_xla/xla/stream_executor/cuda/cuda_executor.cc:901] successful NUMA node read from SysFS had negative value (-1), but there must be at least one NUMA node, so returning NUMA node zero. See more at https://github.com/torvalds/linux/blob/v6.0/Documentation/ABI/testing/sysfs-bus-pci#L344-L355\n",
      "2024-07-08 20:24:41.178706: I external/local_xla/xla/stream_executor/cuda/cuda_executor.cc:901] successful NUMA node read from SysFS had negative value (-1), but there must be at least one NUMA node, so returning NUMA node zero. See more at https://github.com/torvalds/linux/blob/v6.0/Documentation/ABI/testing/sysfs-bus-pci#L344-L355\n",
      "2024-07-08 20:24:41.180765: I external/local_xla/xla/stream_executor/cuda/cuda_executor.cc:901] successful NUMA node read from SysFS had negative value (-1), but there must be at least one NUMA node, so returning NUMA node zero. See more at https://github.com/torvalds/linux/blob/v6.0/Documentation/ABI/testing/sysfs-bus-pci#L344-L355\n",
      "2024-07-08 20:24:41.182772: I external/local_xla/xla/stream_executor/cuda/cuda_executor.cc:901] successful NUMA node read from SysFS had negative value (-1), but there must be at least one NUMA node, so returning NUMA node zero. See more at https://github.com/torvalds/linux/blob/v6.0/Documentation/ABI/testing/sysfs-bus-pci#L344-L355\n",
      "2024-07-08 20:24:41.184605: I tensorflow/core/common_runtime/gpu/gpu_device.cc:1929] Created device /job:localhost/replica:0/task:0/device:GPU:0 with 13775 MB memory:  -> device: 0, name: Tesla T4, pci bus id: 0000:06:00.0, compute capability: 7.5\n",
      "2024-07-08 20:24:41.265750: I tensorflow/compiler/mlir/mlir_graph_optimization_pass.cc:388] MLIR V1 optimization pass is not enabled\n"
     ]
    }
   ],
   "source": [
    "model = DKN(hparams, DKNTextIterator)"
   ]
  },
  {
   "cell_type": "code",
   "execution_count": 11,
   "id": "72a04b98",
   "metadata": {
    "lines_to_next_cell": 2
   },
   "outputs": [],
   "source": [
    "if run_train:\n",
    "    model.fit(train_file, valid_file)\n",
    "else:\n",
    "    model.load_model(str( GROUP_PATH / \"models/DKN/epoch_10\"))"
   ]
  },
  {
   "cell_type": "markdown",
   "id": "2124a8e1",
   "metadata": {},
   "source": [
    "## Evaluate the DKN model"
   ]
  },
  {
   "cell_type": "code",
   "execution_count": 12,
   "id": "7ed5b5a3",
   "metadata": {
    "editable": true,
    "lines_to_next_cell": 0,
    "slideshow": {
     "slide_type": ""
    },
    "tags": []
   },
   "outputs": [
    {
     "name": "stderr",
     "output_type": "stream",
     "text": [
      "2024-07-08 20:25:43.806092: I external/local_xla/xla/stream_executor/cuda/cuda_dnn.cc:454] Loaded cuDNN version 8902\n",
      "2024-07-08 20:25:43.808961: I external/local_tsl/tsl/platform/default/subprocess.cc:304] Start cannot spawn child process: No such file or directory\n",
      "2024-07-08 20:25:44.089851: I external/local_tsl/tsl/platform/default/subprocess.cc:304] Start cannot spawn child process: No such file or directory\n"
     ]
    },
    {
     "name": "stdout",
     "output_type": "stream",
     "text": [
      "{'auc': 0.6956, 'group_auc': 0.6917, 'mean_mrr': 0.4934, 'ndcg@5': 0.5387, 'ndcg@10': 0.5919}\n"
     ]
    }
   ],
   "source": [
    "res = model.run_eval(str(evaluation_file))\n",
    "print(res)"
   ]
  },
  {
   "cell_type": "markdown",
   "id": "d386b63e",
   "metadata": {
    "editable": true,
    "lines_to_next_cell": 0,
    "slideshow": {
     "slide_type": ""
    },
    "tags": []
   },
   "source": [
    "## Predict for RecSys Challenge Testdata"
   ]
  },
  {
   "cell_type": "code",
   "execution_count": null,
   "id": "31eb9712",
   "metadata": {
    "editable": true,
    "slideshow": {
     "slide_type": ""
    },
    "tags": []
   },
   "outputs": [],
   "source": [
    "if not Path(test_file).exists():\n",
    "    transform_behaviors_test(str(test_raw_file), indexed_behaviors_file, test_file)"
   ]
  },
  {
   "cell_type": "code",
   "execution_count": null,
   "id": "b472ec5f",
   "metadata": {},
   "outputs": [],
   "source": [
    "model.predict(str(test_file), scores_file)"
   ]
  },
  {
   "cell_type": "code",
   "execution_count": null,
   "id": "1a6044bf",
   "metadata": {
    "lines_to_next_cell": 0
   },
   "outputs": [],
   "source": [
    "rankings = calculate_rankings(indexed_behaviors_file, scores_file)\n",
    "rankings.write_csv(predictions_file, separator=\" \", include_header=False)\n",
    "print(f\"Created predictions file at {predictions_file}\")"
   ]
  },
  {
   "cell_type": "markdown",
   "id": "57e37740",
   "metadata": {},
   "source": [
    "Sort the rankings by the original order (given by the index) and persist the resulting rankings.\n",
    "\n"
   ]
  },
  {
   "cell_type": "code",
   "execution_count": null,
   "id": "4a7abc79",
   "metadata": {
    "lines_to_next_cell": 2
   },
   "outputs": [],
   "source": [
    "# Check if produced prediction matches with original impression row order\n",
    "# (pl.scan_parquet(test_raw_file)\n",
    "#     .select(\"impression_id\", \"article_ids_inview\")\n",
    "#     .with_row_index()\n",
    "#     .with_columns(pl.col(\"article_ids_inview\").map_elements(lambda el: len(el)).alias(\"len_a_ids\"))\n",
    "#    # .filter(pl.col(\"impression_id\") == 0)\n",
    "# ).collect().head(1)"
   ]
  },
  {
   "cell_type": "code",
   "execution_count": null,
   "id": "57f6e659",
   "metadata": {},
   "outputs": [],
   "source": [
    "# d = (pl.scan_csv(test_file, has_header=False, separator=' ')\n",
    "#     .filter(pl.col(\"column_3\").str.contains(\"6451383\"))\n",
    "# \n",
    "# )\n",
    "#     \n",
    "# d.collect()"
   ]
  },
  {
   "cell_type": "markdown",
   "id": "bd30d71a",
   "metadata": {},
   "source": [
    "## Document embedding inference API\n",
    "\n",
    "After training, you can get document embedding through this document embedding inference API. The input file format is same with document feature file. The output file fomrat is: `[Newsid] [embedding]`"
   ]
  },
  {
   "cell_type": "code",
   "execution_count": null,
   "id": "70f4c76e",
   "metadata": {},
   "outputs": [],
   "source": [
    "model.run_get_embedding(news_feature_file, infer_embedding_file)"
   ]
  },
  {
   "cell_type": "markdown",
   "id": "82b6afdc",
   "metadata": {},
   "source": [
    "## References\n",
    "\n",
    "\\[1\\] Hongwei Wang, Fuzheng Zhang, Xing Xie and Minyi Guo, \"DKN: Deep Knowledge-Aware Network for News Recommendation\", in Proceedings of the 2018 World Wide Web Conference (WWW), 2018, https://arxiv.org/abs/1801.08284. <br>\n",
    "\\[2\\] Knowledge Graph Embeddings including TransE, TransH, TransR and PTransE. https://github.com/thunlp/KB2E <br>\n",
    "\\[3\\] Fangzhao Wu et al., \"MIND: A Large-scale Dataset for News Recommendation\", Proceedings of the 58th Annual Meeting of the Association for Computational Linguistics, 2020, https://msnews.github.io/competition.html. <br>\n",
    "\\[4\\] GloVe: Global Vectors for Word Representation. https://nlp.stanford.edu/projects/glove/"
   ]
  }
 ],
 "metadata": {
  "kernelspec": {
   "display_name": "Python 3 (ipykernel)",
   "language": "python",
   "name": "python3"
  },
  "language_info": {
   "codemirror_mode": {
    "name": "ipython",
    "version": 3
   },
   "file_extension": ".py",
   "mimetype": "text/x-python",
   "name": "python",
   "nbconvert_exporter": "python",
   "pygments_lexer": "ipython3",
   "version": "3.11.8"
  }
 },
 "nbformat": 4,
 "nbformat_minor": 5
}
