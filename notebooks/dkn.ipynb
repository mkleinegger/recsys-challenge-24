{
 "cells": [
  {
   "cell_type": "markdown",
   "id": "94c7f689",
   "metadata": {},
   "source": [
    "<i>Copyright (c) Recommenders contributors.</i>\n",
    "\n",
    "<i>Licensed under the MIT License.</i>"
   ]
  },
  {
   "cell_type": "code",
   "execution_count": 1,
   "id": "1778d5e3",
   "metadata": {},
   "outputs": [],
   "source": [
    "# !cd .. && pip install -e ."
   ]
  },
  {
   "cell_type": "markdown",
   "id": "7b598b21",
   "metadata": {},
   "source": [
    "# DKN : Deep Knowledge-Aware Network for News Recommendation\n",
    "\n",
    "DKN \\[1\\] is a deep learning model which incorporates information from knowledge graph for better news recommendation. Specifically, DKN uses TransX \\[2\\] method for knowledge graph representation learning, then applies a CNN framework, named KCNN, to combine entity embedding with word embedding and generate a final embedding vector for a news article. CTR prediction is made via an attention-based neural scorer.\n",
    "\n",
    "## Properties of DKN:\n",
    "\n",
    "- DKN is a content-based deep model for CTR prediction rather than traditional ID-based collaborative filtering.\n",
    "- It makes use of knowledge entities and common sense in news content via joint learning from semantic-level and knowledge-level representations of news articles.\n",
    "- DKN uses an attention module to dynamically calculate a user's aggregated historical representation.\n",
    "\n",
    "\n",
    "## Data format\n",
    "\n",
    "DKN takes several files as input as follows:\n",
    "\n",
    "- **training / validation / test files**: each line in these files represents one instance. Impressionid is used to evaluate performance within an impression session, so it is only used when evaluating, you can set it to 0 for training data. The format is : <br>\n",
    "`[label] [userid] [CandidateNews]%[impressionid] `<br>\n",
    "e.g., `1 train_U1 N1%0` <br>\n",
    "\n",
    "- **user history file**: each line in this file represents a users' click history. You need to set `history_size` parameter in the config file, which is the max number of user's click history we use. We will automatically keep the last `history_size` number of user click history, if user's click history is more than `history_size`, and we will automatically pad with 0 if user's click history is less than `history_size`. the format is : <br>\n",
    "`[Userid] [newsid1,newsid2...]`<br>\n",
    "e.g., `train_U1 N1,N2` <br>\n",
    "\n",
    "- **document feature file**: It contains the word and entity features for news articles. News articles are represented by aligned title words and title entities. To take a quick example, a news title may be: <i>\"Trump to deliver State of the Union address next week\"</i>, then the title words value may be `CandidateNews:34,45,334,23,12,987,3456,111,456,432` and the title entitie value may be: `entity:45,0,0,0,0,0,0,0,0,0`. Only the first value of entity vector is non-zero due to the word \"Trump\". The title value and entity value is hashed from 1 to `n` (where `n` is the number of distinct words or entities). Each feature length should be fixed at k (`doc_size` parameter), if the number of words in document is more than k, you should truncate the document to k words, and if the number of words in document is less than k, you should pad 0 to the end.\n",
    "the format is like: <br>\n",
    "`[Newsid] [w1,w2,w3...wk] [e1,e2,e3...ek]`\n",
    "\n",
    "- **word embedding/entity embedding/ context embedding files**: These are `*.npy` files of pretrained embeddings. After loading, each file is a `[n+1,k]` two-dimensional matrix, n is the number of words(or entities) of their hash dictionary, k is dimension of the embedding, note that we keep embedding 0 for zero padding.\n",
    "\n",
    "In this experiment, we used GloVe\\[4\\] vectors to initialize the word embedding. We trained entity embedding using TransE\\[2\\] on knowledge graph and context embedding is the average of the entity's neighbors in the knowledge graph.<br>\n",
    "\n",
    "## MIND dataset\n",
    "\n",
    "MIND dataset\\[3\\] is a large-scale English news dataset. It was collected from anonymized behavior logs of Microsoft News website. MIND contains 1,000,000 users, 161,013 news articles and 15,777,377 impression logs. Every news article contains rich textual content including title, abstract, body, category and entities. Each impression log contains the click events, non-clicked events and historical news click behaviors of this user before this impression.\n",
    "\n",
    "A smaller version, [MIND-small](https://azure.microsoft.com/en-us/services/open-datasets/catalog/microsoft-news-dataset/), is a small version of the MIND dataset by randomly sampling 50,000 users and their behavior logs from the MIND dataset.\n",
    "\n",
    "The datasets contains these files for both training and validation data:\n",
    "\n",
    "#### behaviors.tsv\n",
    "\n",
    "The behaviors.tsv file contains the impression logs and users' news click hostories. It has 5 columns divided by the tab symbol:\n",
    "\n",
    "+ Impression ID. The ID of an impression.\n",
    "+ User ID. The anonymous ID of a user.\n",
    "+ Time. The impression time with format \"MM/DD/YYYY HH:MM:SS AM/PM\".\n",
    "+ History. The news click history (ID list of clicked news) of this user before this impression.\n",
    "+ Impressions. List of news displayed in this impression and user's click behaviors on them (1 for click and 0 for non-click).\n",
    "\n",
    "One simple example:\n",
    "\n",
    "`1    U82271    11/11/2019 3:28:58 PM    N3130 N11621 N12917 N4574 N12140 N9748    N13390-0 N7180-0 N20785-0 N6937-0 N15776-0 N25810-0 N20820-0 N6885-0 N27294-0 N18835-0 N16945-0 N7410-0 N23967-0 N22679-0 N20532-0 N26651-0 N22078-0 N4098-0 N16473-0 N13841-0 N15660-0 N25787-0 N2315-0 N1615-0 N9087-0 N23880-0 N3600-0 N24479-0 N22882-0 N26308-0 N13594-0 N2220-0 N28356-0 N17083-0 N21415-0 N18671-0 N9440-0 N17759-0 N10861-0 N21830-0 N8064-0 N5675-0 N15037-0 N26154-0 N15368-1 N481-0 N3256-0 N20663-0 N23940-0 N7654-0 N10729-0 N7090-0 N23596-0 N15901-0 N16348-0 N13645-0 N8124-0 N20094-0 N27774-0 N23011-0 N14832-0 N15971-0 N27729-0 N2167-0 N11186-0 N18390-0 N21328-0 N10992-0 N20122-0 N1958-0 N2004-0 N26156-0 N17632-0 N26146-0 N17322-0 N18403-0 N17397-0 N18215-0 N14475-0 N9781-0 N17958-0 N3370-0 N1127-0 N15525-0 N12657-0 N10537-0 N18224-0 `\n",
    "\n",
    "#### news.tsv\n",
    "\n",
    "The news.tsv file contains the detailed information of news articles involved in the behaviors.tsv file. It has 7 columns, which are divided by the tab symbol:\n",
    "\n",
    "+ News ID\n",
    "+ Category\n",
    "+ SubCategory\n",
    "+ Title\n",
    "+ Abstract\n",
    "+ URL\n",
    "+ Title Entities (entities contained in the title of this news)\n",
    "+ Abstract Entities (entites contained in the abstract of this news)\n",
    "\n",
    "One simple example:\n",
    "\n",
    "`N46466    lifestyle    lifestyleroyals    The Brands Queen Elizabeth, Prince Charles, and Prince Philip Swear By    Shop the notebooks, jackets, and more that the royals can't live without.    https://www.msn.com/en-us/lifestyle/lifestyleroyals/the-brands-queen-elizabeth,-prince-charles,-and-prince-philip-swear-by/ss-AAGH0ET?ocid=chopendata    [{\"Label\": \"Prince Philip, Duke of Edinburgh\", \"Type\": \"P\", \"WikidataId\": \"Q80976\", \"Confidence\": 1.0, \"OccurrenceOffsets\": [48], \"SurfaceForms\": [\"Prince Philip\"]}, {\"Label\": \"Charles, Prince of Wales\", \"Type\": \"P\", \"WikidataId\": \"Q43274\", \"Confidence\": 1.0, \"OccurrenceOffsets\": [28], \"SurfaceForms\": [\"Prince Charles\"]}, {\"Label\": \"Elizabeth II\", \"Type\": \"P\", \"WikidataId\": \"Q9682\", \"Confidence\": 0.97, \"OccurrenceOffsets\": [11], \"SurfaceForms\": [\"Queen Elizabeth\"]}]    [] `\n",
    "\n",
    "#### entity_embedding.vec & relation_embedding.vec\n",
    "\n",
    "The entity_embedding.vec and relation_embedding.vec files contain the 100-dimensional embeddings of the entities and relations learned from the subgraph (from WikiData knowledge graph) by TransE method. In both files, the first column is the ID of entity/relation, and the other columns are the embedding vector values.\n",
    "\n",
    "One simple example:\n",
    "\n",
    "`Q42306013  0.014516 -0.106958 0.024590 ... -0.080382`\n",
    "\n",
    "\n",
    "## DKN architecture\n",
    "\n",
    "The following figure shows the architecture of DKN.\n",
    "\n",
    "![](https://recodatasets.z20.web.core.windows.net/images/dkn_architecture.png)\n",
    "\n",
    "DKN takes one piece of candidate news and one piece of a user’s clicked news as input. For each piece of news, a specially designed KCNN is used to process its title and generate an embedding vector. KCNN is an extension of traditional CNN that allows flexibility in incorporating symbolic knowledge from a knowledge graph into sentence representation learning.\n",
    "\n",
    "With the KCNN, we obtain a set of embedding vectors for a user’s clicked history. To get final embedding of the user with\n",
    "respect to the current candidate news, we use an attention-based method to automatically match the candidate news to each piece\n",
    "of his clicked news, and aggregate the user’s historical interests with different weights. The candidate news embedding and the user embedding are concatenated and fed into a deep neural network (DNN) to calculate the predicted probability that the user will click the candidate news."
   ]
  },
  {
   "cell_type": "markdown",
   "id": "05340067",
   "metadata": {},
   "source": [
    "## Global settings and imports"
   ]
  },
  {
   "cell_type": "code",
   "execution_count": 2,
   "id": "df25eb37",
   "metadata": {
    "lines_to_next_cell": 2
   },
   "outputs": [],
   "source": [
    "%load_ext autoreload\n",
    "%autoreload 2"
   ]
  },
  {
   "cell_type": "code",
   "execution_count": 5,
   "id": "1106646d",
   "metadata": {},
   "outputs": [
    {
     "ename": "ModuleNotFoundError",
     "evalue": "No module named 'recommenders'",
     "output_type": "error",
     "traceback": [
      "\u001b[0;31m---------------------------------------------------------------------------\u001b[0m",
      "\u001b[0;31mModuleNotFoundError\u001b[0m                       Traceback (most recent call last)",
      "Cell \u001b[0;32mIn[5], line 17\u001b[0m\n\u001b[1;32m     13\u001b[0m LOG\u001b[38;5;241m.\u001b[39msetLevel(logging\u001b[38;5;241m.\u001b[39mINFO)\n\u001b[1;32m     15\u001b[0m \u001b[38;5;66;03m# logging.basicConfig(level=logging.INFO)\u001b[39;00m\n\u001b[0;32m---> 17\u001b[0m \u001b[38;5;28;01mfrom\u001b[39;00m \u001b[38;5;21;01mrecommenders\u001b[39;00m\u001b[38;5;21;01m.\u001b[39;00m\u001b[38;5;21;01mdatasets\u001b[39;00m\u001b[38;5;21;01m.\u001b[39;00m\u001b[38;5;21;01mdownload_utils\u001b[39;00m \u001b[38;5;28;01mimport\u001b[39;00m maybe_download\n\u001b[1;32m     18\u001b[0m \u001b[38;5;28;01mfrom\u001b[39;00m \u001b[38;5;21;01mrecommenders\u001b[39;00m\u001b[38;5;21;01m.\u001b[39;00m\u001b[38;5;21;01mmodels\u001b[39;00m\u001b[38;5;21;01m.\u001b[39;00m\u001b[38;5;21;01mdeeprec\u001b[39;00m\u001b[38;5;21;01m.\u001b[39;00m\u001b[38;5;21;01mdeeprec_utils\u001b[39;00m \u001b[38;5;28;01mimport\u001b[39;00m prepare_hparams\n\u001b[1;32m     19\u001b[0m \u001b[38;5;28;01mfrom\u001b[39;00m \u001b[38;5;21;01mrecommenders\u001b[39;00m\u001b[38;5;21;01m.\u001b[39;00m\u001b[38;5;21;01mmodels\u001b[39;00m\u001b[38;5;21;01m.\u001b[39;00m\u001b[38;5;21;01mdeeprec\u001b[39;00m\u001b[38;5;21;01m.\u001b[39;00m\u001b[38;5;21;01mmodels\u001b[39;00m\u001b[38;5;21;01m.\u001b[39;00m\u001b[38;5;21;01mdkn\u001b[39;00m \u001b[38;5;28;01mimport\u001b[39;00m DKN\n",
      "\u001b[0;31mModuleNotFoundError\u001b[0m: No module named 'recommenders'"
     ]
    }
   ],
   "source": [
    "import os\n",
    "import sys\n",
    "import logging\n",
    "from pathlib import Path\n",
    "import zipfile\n",
    "from time import time\n",
    "\n",
    "import tensorflow as tf\n",
    "tf.get_logger().setLevel('ERROR') # only show error messages\n",
    "\n",
    "logging.basicConfig(level=logging.INFO)\n",
    "LOG = logging.getLogger(__name__)\n",
    "LOG.setLevel(logging.INFO)\n",
    "\n",
    "# logging.basicConfig(level=logging.INFO)\n",
    "\n",
    "from recommenders.datasets.download_utils import maybe_download\n",
    "from recommenders.models.deeprec.deeprec_utils import prepare_hparams\n",
    "from recommenders.models.deeprec.models.dkn import DKN\n",
    "from recommenders.models.deeprec.io.dkn_iterator import DKNTextIterator\n",
    "\n",
    "from group_33.dkn import *\n",
    "\n",
    "print(f\"System version: {sys.version}\")\n",
    "print(f\"Tensorflow version: {tf.__version__}\")"
   ]
  },
  {
   "cell_type": "code",
   "execution_count": 6,
   "id": "4594dec3",
   "metadata": {
    "tags": [
     "parameters"
    ]
   },
   "outputs": [
    {
     "name": "stderr",
     "output_type": "stream",
     "text": [
      "INFO:__main__:../downloads/small\n",
      "INFO:__main__:../tmp/dkn\n"
     ]
    },
    {
     "ename": "NameError",
     "evalue": "name 'pl' is not defined",
     "output_type": "error",
     "traceback": [
      "\u001b[0;31m---------------------------------------------------------------------------\u001b[0m",
      "\u001b[0;31mNameError\u001b[0m                                 Traceback (most recent call last)",
      "Cell \u001b[0;32mIn[6], line 46\u001b[0m\n\u001b[1;32m     43\u001b[0m LOG\u001b[38;5;241m.\u001b[39minfo(data_path)\n\u001b[1;32m     44\u001b[0m LOG\u001b[38;5;241m.\u001b[39minfo(tmp_path)\n\u001b[0;32m---> 46\u001b[0m \u001b[43mpl\u001b[49m\u001b[38;5;241m.\u001b[39mConfig\u001b[38;5;241m.\u001b[39mset_tbl_rows(\u001b[38;5;241m100\u001b[39m)\n\u001b[1;32m     48\u001b[0m run_train \u001b[38;5;241m=\u001b[39m \u001b[38;5;28;01mTrue\u001b[39;00m \u001b[38;5;28;01mif\u001b[39;00m os\u001b[38;5;241m.\u001b[39menviron\u001b[38;5;241m.\u001b[39mget(\u001b[38;5;124m\"\u001b[39m\u001b[38;5;124mTRAIN\u001b[39m\u001b[38;5;124m\"\u001b[39m) \u001b[38;5;28;01melse\u001b[39;00m \u001b[38;5;28;01mFalse\u001b[39;00m\n\u001b[1;32m     49\u001b[0m \u001b[38;5;28mprint\u001b[39m(run_train)\n",
      "\u001b[0;31mNameError\u001b[0m: name 'pl' is not defined"
     ]
    }
   ],
   "source": [
    "# DKN parameters\n",
    "epochs = 10\n",
    "history_size = 50\n",
    "batch_size = 1000\n",
    "\n",
    "DATASET_NAME = \"small\" # one of: demo, small, large\n",
    "GROUP_PATH = Path(\"shared/194.035-2024S/groups/Gruppe_33/Group_33\")\n",
    "\n",
    "\n",
    "# prepare tmp dir\n",
    "tmp_path = Path(\"..\", \"tmp\", \"dkn\")\n",
    "tmp_data_path = tmp_path / DATASET_NAME\n",
    "(tmp_data_path / \"validation\").mkdir(exist_ok=True, parents=True)\n",
    "(tmp_data_path / \"train\").mkdir(exist_ok=True, parents=True)\n",
    "(tmp_data_path / \"evaluation\").mkdir(exist_ok=True, parents=True)\n",
    "\n",
    "tmp_test_path = tmp_path / \"test\"\n",
    "tmp_test_path.mkdir(exist_ok=True, parents=True)\n",
    "\n",
    "# train & validation & evaluation\n",
    "data_path = GROUP_PATH / \"data\" / DATASET_NAME\n",
    "train_file = tmp_data_path / \"train\" / \"behaviours.txt\"\n",
    "valid_file = tmp_data_path / \"validation\" / \"behaviours.txt\"\n",
    "evaluation_file = tmp_data_path / \"evaluation\" / \"behaviors.txt\"\n",
    "user_history_file = tmp_data_path / \"user_history.txt\"\n",
    "articles_file = data_path / \"articles.parquet\"\n",
    "articles_tokenized_file = tmp_data_path / \"articles_tokenized.parquet\"\n",
    "word_embeddings_file = tmp_data_path / \"word_embeddings.npy\"\n",
    "entity_embeddings_file = tmp_data_path / \"entity_embeddings.npy\"\n",
    "context_embeddings_file = tmp_data_path / \"context_embeddings.npy\"\n",
    "news_feature_file = tmp_data_path / \"news_feature.txt\"\n",
    "infer_embedding_file = tmp_data_path / \"infer_embedding.txt\"\n",
    "\n",
    "# test\n",
    "test_raw_file = data_path / \"..\" / \"ebnerd_testset\" / \"test\" / \"behaviors.parquet\"\n",
    "test_file = tmp_test_path / \"behavior.txt\"\n",
    "test_articles_file = GROUP_PATH / \"data\" / \"test\" / \"articles.parquet\"\n",
    "test_articles_tokenized_file = tmp_test_path / \"articles_tokenized.parquet\"\n",
    "\n",
    "# prediction\n",
    "indexed_behaviors_file = tmp_data_path / \"indexed_behaviors.parquet\"\n",
    "scores_file = tmp_data_path / \"scores.txt\"\n",
    "predictions_file = tmp_data_path / \"predictions.txt\"\n",
    "\n",
    "LOG.info(data_path)\n",
    "LOG.info(tmp_path)\n",
    "\n",
    "pl.Config.set_tbl_rows(100)\n",
    "\n",
    "run_train = True if os.environ.get(\"TRAIN\") else False\n",
    "print(run_train)"
   ]
  },
  {
   "cell_type": "markdown",
   "id": "37110c1a",
   "metadata": {},
   "source": [
    "## Data preparation\n",
    "\n",
    "In this example, let's go through a real case on how to apply DKN on a raw news dataset from the very beginning. We will download a copy of open-source MIND dataset, in its original raw format. Then we will process the raw data files into DKN's input data format, which is stated previously.\n"
   ]
  },
  {
   "cell_type": "code",
   "execution_count": 7,
   "id": "5f4a48a4",
   "metadata": {},
   "outputs": [
    {
     "ename": "NameError",
     "evalue": "name 'get_context_embedding' is not defined",
     "output_type": "error",
     "traceback": [
      "\u001b[0;31m---------------------------------------------------------------------------\u001b[0m",
      "\u001b[0;31mNameError\u001b[0m                                 Traceback (most recent call last)",
      "Cell \u001b[0;32mIn[7], line 1\u001b[0m\n\u001b[0;32m----> 1\u001b[0m \u001b[43mget_context_embedding\u001b[49m(\u001b[38;5;124m\"\u001b[39m\u001b[38;5;124mQ35\u001b[39m\u001b[38;5;124m\"\u001b[39m)\n",
      "\u001b[0;31mNameError\u001b[0m: name 'get_context_embedding' is not defined"
     ]
    }
   ],
   "source": [
    "get_context_embedding(\"Q35\")"
   ]
  },
  {
   "cell_type": "code",
   "execution_count": 15,
   "id": "96269eb8",
   "metadata": {},
   "outputs": [
    {
     "name": "stderr",
     "output_type": "stream",
     "text": [
      "INFO:recommenders.datasets.download_utils:Downloading http://vectors.nlpl.eu/repository/20/38.zip\n",
      "100%|██████████| 1.23M/1.23M [00:31<00:00, 38.7kKB/s]\n"
     ]
    }
   ],
   "source": [
    "if not (tmp_path / \"model.bin\").exists():\n",
    "    maybe_download(\"http://vectors.nlpl.eu/repository/20/38.zip\", tmp_path / \"word2vec.zip\")\n",
    "\n",
    "    with zipfile.ZipFile(tmp_path / \"word2vec.zip\", 'r') as zip_ref:\n",
    "        zip_ref.extractall(tmp_path)"
   ]
  },
  {
   "cell_type": "code",
   "execution_count": 16,
   "id": "68dafe10",
   "metadata": {
    "lines_to_next_cell": 2
   },
   "outputs": [
    {
     "name": "stderr",
     "output_type": "stream",
     "text": [
      "INFO:group_33.dkn:Starting transform_behaviors\n",
      "INFO:group_33.dkn:Starting transform_behaviors\n",
      "INFO:group_33.dkn:Starting transform_behaviors\n",
      "INFO:group_33.dkn:Starting transform_history for input files: (PosixPath('../downloads/small/train/history.parquet'), PosixPath('../downloads/small/validation/history.parquet'), PosixPath('../downloads/small/../ebnerd_testset/test/history.parquet'))\n"
     ]
    },
    {
     "ename": "FileNotFoundError",
     "evalue": "No such file or directory (os error 2): ../tmp/dkn/test/articles.parquet",
     "output_type": "error",
     "traceback": [
      "\u001b[0;31m---------------------------------------------------------------------------\u001b[0m",
      "\u001b[0;31mFileNotFoundError\u001b[0m                         Traceback (most recent call last)",
      "Cell \u001b[0;32mIn[16], line 32\u001b[0m\n\u001b[1;32m     29\u001b[0m     tokenize_articles(articles_file, articles_tokenized_file)\n\u001b[1;32m     31\u001b[0m \u001b[38;5;28;01mif\u001b[39;00m \u001b[38;5;129;01mnot\u001b[39;00m test_articles_tokenized_file\u001b[38;5;241m.\u001b[39mexists() \u001b[38;5;129;01mor\u001b[39;00m force_reload:\n\u001b[0;32m---> 32\u001b[0m     \u001b[43mtokenize_articles\u001b[49m\u001b[43m(\u001b[49m\u001b[43mtest_articles_file\u001b[49m\u001b[43m,\u001b[49m\u001b[43m \u001b[49m\u001b[43mtest_articles_tokenized_file\u001b[49m\u001b[43m)\u001b[49m\n\u001b[1;32m     34\u001b[0m \u001b[38;5;28;01mif\u001b[39;00m \u001b[38;5;129;01mnot\u001b[39;00m news_feature_file\u001b[38;5;241m.\u001b[39mexists() \u001b[38;5;129;01mor\u001b[39;00m force_reload:\n\u001b[1;32m     35\u001b[0m     create_feature_file(\n\u001b[1;32m     36\u001b[0m         tmp_path \u001b[38;5;241m/\u001b[39m \u001b[38;5;124m\"\u001b[39m\u001b[38;5;124mmodel.bin\u001b[39m\u001b[38;5;124m\"\u001b[39m,\n\u001b[1;32m     37\u001b[0m         articles_tokenized_file, test_articles_tokenized_file,\n\u001b[1;32m     38\u001b[0m         word_embeddings_file, entity_embeddings_file,\n\u001b[1;32m     39\u001b[0m         context_embeddings_file, news_feature_file, \u001b[38;5;241m10\u001b[39m\n\u001b[1;32m     40\u001b[0m     )\n",
      "File \u001b[0;32m~/Group_33/src/group_33/dkn.py:60\u001b[0m, in \u001b[0;36mtokenize_articles\u001b[0;34m(articles_file, tokenized_articles_file)\u001b[0m\n\u001b[1;32m     58\u001b[0m \u001b[38;5;28;01mdef\u001b[39;00m \u001b[38;5;21mtokenize_articles\u001b[39m(articles_file: Path, tokenized_articles_file: Path):\n\u001b[1;32m     59\u001b[0m     tokenizer \u001b[38;5;241m=\u001b[39m RegexpTokenizer(\u001b[38;5;124mr\u001b[39m\u001b[38;5;124m\"\u001b[39m\u001b[38;5;124m\\\u001b[39m\u001b[38;5;124mw+\u001b[39m\u001b[38;5;124m\"\u001b[39m)\n\u001b[0;32m---> 60\u001b[0m     articles \u001b[38;5;241m=\u001b[39m (\u001b[43mpl\u001b[49m\u001b[38;5;241;43m.\u001b[39;49m\u001b[43mscan_parquet\u001b[49m\u001b[43m(\u001b[49m\u001b[43marticles_file\u001b[49m\u001b[43m)\u001b[49m\n\u001b[1;32m     61\u001b[0m         \u001b[38;5;241m.\u001b[39mselect(\u001b[38;5;124m\"\u001b[39m\u001b[38;5;124marticle_id\u001b[39m\u001b[38;5;124m\"\u001b[39m, \u001b[38;5;124m\"\u001b[39m\u001b[38;5;124mtitle\u001b[39m\u001b[38;5;124m\"\u001b[39m)\n\u001b[1;32m     62\u001b[0m         \u001b[38;5;241m.\u001b[39mwith_columns(pl\u001b[38;5;241m.\u001b[39mcol(\u001b[38;5;124m\"\u001b[39m\u001b[38;5;124mtitle\u001b[39m\u001b[38;5;124m\"\u001b[39m)\u001b[38;5;241m.\u001b[39mstr\u001b[38;5;241m.\u001b[39mto_lowercase()\u001b[38;5;241m.\u001b[39malias(\u001b[38;5;124m\"\u001b[39m\u001b[38;5;124mtitle\u001b[39m\u001b[38;5;124m\"\u001b[39m))\n\u001b[1;32m     63\u001b[0m         \u001b[38;5;241m.\u001b[39mwith_columns(pl\u001b[38;5;241m.\u001b[39mcol(\u001b[38;5;124m\"\u001b[39m\u001b[38;5;124mtitle\u001b[39m\u001b[38;5;124m\"\u001b[39m)\n\u001b[1;32m     64\u001b[0m             \u001b[38;5;241m.\u001b[39mmap_elements(\u001b[38;5;28;01mlambda\u001b[39;00m title: tokenizer\u001b[38;5;241m.\u001b[39mtokenize(title))\n\u001b[1;32m     65\u001b[0m             \u001b[38;5;241m.\u001b[39malias(\u001b[38;5;124m\"\u001b[39m\u001b[38;5;124mword_tokens\u001b[39m\u001b[38;5;124m\"\u001b[39m)\n\u001b[1;32m     66\u001b[0m         )\n\u001b[1;32m     67\u001b[0m         \u001b[38;5;241m.\u001b[39mwith_columns(pl\u001b[38;5;241m.\u001b[39mcol(\u001b[38;5;124m\"\u001b[39m\u001b[38;5;124mtitle\u001b[39m\u001b[38;5;124m\"\u001b[39m)\n\u001b[1;32m     68\u001b[0m             \u001b[38;5;241m.\u001b[39mmap_elements(\u001b[38;5;28;01mlambda\u001b[39;00m title: title \u001b[38;5;129;01mor\u001b[39;00m \u001b[38;5;124m\"\u001b[39m\u001b[38;5;124m \u001b[39m\u001b[38;5;124m\"\u001b[39m)\n\u001b[1;32m     69\u001b[0m             \u001b[38;5;241m.\u001b[39mmap_batches(\u001b[38;5;28;01mlambda\u001b[39;00m titles: pl\u001b[38;5;241m.\u001b[39mSeries(nlp\u001b[38;5;241m.\u001b[39mpipe(titles)))\n\u001b[1;32m     70\u001b[0m             \u001b[38;5;241m.\u001b[39mmap_elements(\u001b[38;5;28;01mlambda\u001b[39;00m doc: [{\u001b[38;5;124m\"\u001b[39m\u001b[38;5;124mid\u001b[39m\u001b[38;5;124m\"\u001b[39m: ent\u001b[38;5;241m.\u001b[39mkb_id_, \u001b[38;5;124m\"\u001b[39m\u001b[38;5;124mstart\u001b[39m\u001b[38;5;124m\"\u001b[39m: ent\u001b[38;5;241m.\u001b[39mstart, \u001b[38;5;124m\"\u001b[39m\u001b[38;5;124mend\u001b[39m\u001b[38;5;124m\"\u001b[39m: ent\u001b[38;5;241m.\u001b[39mend} \u001b[38;5;28;01mfor\u001b[39;00m ent \u001b[38;5;129;01min\u001b[39;00m doc\u001b[38;5;241m.\u001b[39ments \u001b[38;5;28;01mif\u001b[39;00m ent\u001b[38;5;241m.\u001b[39mkb_id_ \u001b[38;5;241m!=\u001b[39m \u001b[38;5;124m'\u001b[39m\u001b[38;5;124mNIL\u001b[39m\u001b[38;5;124m'\u001b[39m])\n\u001b[1;32m     71\u001b[0m             \u001b[38;5;241m.\u001b[39malias(\u001b[38;5;124m\"\u001b[39m\u001b[38;5;124mentities\u001b[39m\u001b[38;5;124m\"\u001b[39m)\n\u001b[1;32m     72\u001b[0m         )\n\u001b[1;32m     73\u001b[0m         \u001b[38;5;241m.\u001b[39mdrop(\u001b[38;5;124m\"\u001b[39m\u001b[38;5;124mtitle\u001b[39m\u001b[38;5;124m\"\u001b[39m)\n\u001b[1;32m     74\u001b[0m     )\n\u001b[1;32m     76\u001b[0m     articles\u001b[38;5;241m.\u001b[39mcollect(streaming\u001b[38;5;241m=\u001b[39m\u001b[38;5;28;01mTrue\u001b[39;00m)\u001b[38;5;241m.\u001b[39mwrite_parquet(tokenized_articles_file)\n",
      "File \u001b[0;32m/opt/conda/lib/python3.11/site-packages/polars/utils/deprecation.py:136\u001b[0m, in \u001b[0;36mdeprecate_renamed_parameter.<locals>.decorate.<locals>.wrapper\u001b[0;34m(*args, **kwargs)\u001b[0m\n\u001b[1;32m    131\u001b[0m \u001b[38;5;129m@wraps\u001b[39m(function)\n\u001b[1;32m    132\u001b[0m \u001b[38;5;28;01mdef\u001b[39;00m \u001b[38;5;21mwrapper\u001b[39m(\u001b[38;5;241m*\u001b[39margs: P\u001b[38;5;241m.\u001b[39margs, \u001b[38;5;241m*\u001b[39m\u001b[38;5;241m*\u001b[39mkwargs: P\u001b[38;5;241m.\u001b[39mkwargs) \u001b[38;5;241m-\u001b[39m\u001b[38;5;241m>\u001b[39m T:\n\u001b[1;32m    133\u001b[0m     _rename_keyword_argument(\n\u001b[1;32m    134\u001b[0m         old_name, new_name, kwargs, function\u001b[38;5;241m.\u001b[39m\u001b[38;5;18m__name__\u001b[39m, version\n\u001b[1;32m    135\u001b[0m     )\n\u001b[0;32m--> 136\u001b[0m     \u001b[38;5;28;01mreturn\u001b[39;00m \u001b[43mfunction\u001b[49m\u001b[43m(\u001b[49m\u001b[38;5;241;43m*\u001b[39;49m\u001b[43margs\u001b[49m\u001b[43m,\u001b[49m\u001b[43m \u001b[49m\u001b[38;5;241;43m*\u001b[39;49m\u001b[38;5;241;43m*\u001b[39;49m\u001b[43mkwargs\u001b[49m\u001b[43m)\u001b[49m\n",
      "File \u001b[0;32m/opt/conda/lib/python3.11/site-packages/polars/utils/deprecation.py:136\u001b[0m, in \u001b[0;36mdeprecate_renamed_parameter.<locals>.decorate.<locals>.wrapper\u001b[0;34m(*args, **kwargs)\u001b[0m\n\u001b[1;32m    131\u001b[0m \u001b[38;5;129m@wraps\u001b[39m(function)\n\u001b[1;32m    132\u001b[0m \u001b[38;5;28;01mdef\u001b[39;00m \u001b[38;5;21mwrapper\u001b[39m(\u001b[38;5;241m*\u001b[39margs: P\u001b[38;5;241m.\u001b[39margs, \u001b[38;5;241m*\u001b[39m\u001b[38;5;241m*\u001b[39mkwargs: P\u001b[38;5;241m.\u001b[39mkwargs) \u001b[38;5;241m-\u001b[39m\u001b[38;5;241m>\u001b[39m T:\n\u001b[1;32m    133\u001b[0m     _rename_keyword_argument(\n\u001b[1;32m    134\u001b[0m         old_name, new_name, kwargs, function\u001b[38;5;241m.\u001b[39m\u001b[38;5;18m__name__\u001b[39m, version\n\u001b[1;32m    135\u001b[0m     )\n\u001b[0;32m--> 136\u001b[0m     \u001b[38;5;28;01mreturn\u001b[39;00m \u001b[43mfunction\u001b[49m\u001b[43m(\u001b[49m\u001b[38;5;241;43m*\u001b[39;49m\u001b[43margs\u001b[49m\u001b[43m,\u001b[49m\u001b[43m \u001b[49m\u001b[38;5;241;43m*\u001b[39;49m\u001b[38;5;241;43m*\u001b[39;49m\u001b[43mkwargs\u001b[49m\u001b[43m)\u001b[49m\n",
      "File \u001b[0;32m/opt/conda/lib/python3.11/site-packages/polars/io/parquet/functions.py:311\u001b[0m, in \u001b[0;36mscan_parquet\u001b[0;34m(source, n_rows, row_index_name, row_index_offset, parallel, use_statistics, hive_partitioning, rechunk, low_memory, cache, storage_options, retries)\u001b[0m\n\u001b[1;32m    308\u001b[0m \u001b[38;5;28;01melse\u001b[39;00m:\n\u001b[1;32m    309\u001b[0m     source \u001b[38;5;241m=\u001b[39m [normalize_filepath(source) \u001b[38;5;28;01mfor\u001b[39;00m source \u001b[38;5;129;01min\u001b[39;00m source]\n\u001b[0;32m--> 311\u001b[0m \u001b[38;5;28;01mreturn\u001b[39;00m \u001b[43mpl\u001b[49m\u001b[38;5;241;43m.\u001b[39;49m\u001b[43mLazyFrame\u001b[49m\u001b[38;5;241;43m.\u001b[39;49m\u001b[43m_scan_parquet\u001b[49m\u001b[43m(\u001b[49m\n\u001b[1;32m    312\u001b[0m \u001b[43m    \u001b[49m\u001b[43msource\u001b[49m\u001b[43m,\u001b[49m\n\u001b[1;32m    313\u001b[0m \u001b[43m    \u001b[49m\u001b[43mn_rows\u001b[49m\u001b[38;5;241;43m=\u001b[39;49m\u001b[43mn_rows\u001b[49m\u001b[43m,\u001b[49m\n\u001b[1;32m    314\u001b[0m \u001b[43m    \u001b[49m\u001b[43mcache\u001b[49m\u001b[38;5;241;43m=\u001b[39;49m\u001b[43mcache\u001b[49m\u001b[43m,\u001b[49m\n\u001b[1;32m    315\u001b[0m \u001b[43m    \u001b[49m\u001b[43mparallel\u001b[49m\u001b[38;5;241;43m=\u001b[39;49m\u001b[43mparallel\u001b[49m\u001b[43m,\u001b[49m\n\u001b[1;32m    316\u001b[0m \u001b[43m    \u001b[49m\u001b[43mrechunk\u001b[49m\u001b[38;5;241;43m=\u001b[39;49m\u001b[43mrechunk\u001b[49m\u001b[43m,\u001b[49m\n\u001b[1;32m    317\u001b[0m \u001b[43m    \u001b[49m\u001b[43mrow_index_name\u001b[49m\u001b[38;5;241;43m=\u001b[39;49m\u001b[43mrow_index_name\u001b[49m\u001b[43m,\u001b[49m\n\u001b[1;32m    318\u001b[0m \u001b[43m    \u001b[49m\u001b[43mrow_index_offset\u001b[49m\u001b[38;5;241;43m=\u001b[39;49m\u001b[43mrow_index_offset\u001b[49m\u001b[43m,\u001b[49m\n\u001b[1;32m    319\u001b[0m \u001b[43m    \u001b[49m\u001b[43mstorage_options\u001b[49m\u001b[38;5;241;43m=\u001b[39;49m\u001b[43mstorage_options\u001b[49m\u001b[43m,\u001b[49m\n\u001b[1;32m    320\u001b[0m \u001b[43m    \u001b[49m\u001b[43mlow_memory\u001b[49m\u001b[38;5;241;43m=\u001b[39;49m\u001b[43mlow_memory\u001b[49m\u001b[43m,\u001b[49m\n\u001b[1;32m    321\u001b[0m \u001b[43m    \u001b[49m\u001b[43muse_statistics\u001b[49m\u001b[38;5;241;43m=\u001b[39;49m\u001b[43muse_statistics\u001b[49m\u001b[43m,\u001b[49m\n\u001b[1;32m    322\u001b[0m \u001b[43m    \u001b[49m\u001b[43mhive_partitioning\u001b[49m\u001b[38;5;241;43m=\u001b[39;49m\u001b[43mhive_partitioning\u001b[49m\u001b[43m,\u001b[49m\n\u001b[1;32m    323\u001b[0m \u001b[43m    \u001b[49m\u001b[43mretries\u001b[49m\u001b[38;5;241;43m=\u001b[39;49m\u001b[43mretries\u001b[49m\u001b[43m,\u001b[49m\n\u001b[1;32m    324\u001b[0m \u001b[43m\u001b[49m\u001b[43m)\u001b[49m\n",
      "File \u001b[0;32m/opt/conda/lib/python3.11/site-packages/polars/lazyframe/frame.py:450\u001b[0m, in \u001b[0;36mLazyFrame._scan_parquet\u001b[0;34m(cls, source, n_rows, cache, parallel, rechunk, row_index_name, row_index_offset, storage_options, low_memory, use_statistics, hive_partitioning, retries)\u001b[0m\n\u001b[1;32m    444\u001b[0m \u001b[38;5;66;03m# try fsspec scanner\u001b[39;00m\n\u001b[1;32m    445\u001b[0m \u001b[38;5;28;01mif\u001b[39;00m (\n\u001b[1;32m    446\u001b[0m     can_use_fsspec\n\u001b[1;32m    447\u001b[0m     \u001b[38;5;129;01mand\u001b[39;00m \u001b[38;5;129;01mnot\u001b[39;00m _is_local_file(source)  \u001b[38;5;66;03m# type: ignore[arg-type]\u001b[39;00m\n\u001b[1;32m    448\u001b[0m     \u001b[38;5;129;01mand\u001b[39;00m \u001b[38;5;129;01mnot\u001b[39;00m _is_supported_cloud(source)  \u001b[38;5;66;03m# type: ignore[arg-type]\u001b[39;00m\n\u001b[1;32m    449\u001b[0m ):\n\u001b[0;32m--> 450\u001b[0m     scan \u001b[38;5;241m=\u001b[39m \u001b[43m_scan_parquet_fsspec\u001b[49m\u001b[43m(\u001b[49m\u001b[43msource\u001b[49m\u001b[43m,\u001b[49m\u001b[43m \u001b[49m\u001b[43mstorage_options\u001b[49m\u001b[43m)\u001b[49m  \u001b[38;5;66;03m# type: ignore[arg-type]\u001b[39;00m\n\u001b[1;32m    451\u001b[0m     \u001b[38;5;28;01mif\u001b[39;00m n_rows:\n\u001b[1;32m    452\u001b[0m         scan \u001b[38;5;241m=\u001b[39m scan\u001b[38;5;241m.\u001b[39mhead(n_rows)\n",
      "File \u001b[0;32m/opt/conda/lib/python3.11/site-packages/polars/io/parquet/anonymous_scan.py:21\u001b[0m, in \u001b[0;36m_scan_parquet_fsspec\u001b[0;34m(source, storage_options)\u001b[0m\n\u001b[1;32m     18\u001b[0m func \u001b[38;5;241m=\u001b[39m partial(_scan_parquet_impl, source, storage_options\u001b[38;5;241m=\u001b[39mstorage_options)\n\u001b[1;32m     20\u001b[0m \u001b[38;5;28;01mwith\u001b[39;00m _prepare_file_arg(source, storage_options\u001b[38;5;241m=\u001b[39mstorage_options) \u001b[38;5;28;01mas\u001b[39;00m data:\n\u001b[0;32m---> 21\u001b[0m     schema \u001b[38;5;241m=\u001b[39m \u001b[43mpolars\u001b[49m\u001b[38;5;241;43m.\u001b[39;49m\u001b[43mio\u001b[49m\u001b[38;5;241;43m.\u001b[39;49m\u001b[43mparquet\u001b[49m\u001b[38;5;241;43m.\u001b[39;49m\u001b[43mread_parquet_schema\u001b[49m\u001b[43m(\u001b[49m\u001b[43mdata\u001b[49m\u001b[43m)\u001b[49m\n\u001b[1;32m     23\u001b[0m \u001b[38;5;28;01mreturn\u001b[39;00m pl\u001b[38;5;241m.\u001b[39mLazyFrame\u001b[38;5;241m.\u001b[39m_scan_python_function(schema, func)\n",
      "File \u001b[0;32m/opt/conda/lib/python3.11/site-packages/polars/io/parquet/functions.py:213\u001b[0m, in \u001b[0;36mread_parquet_schema\u001b[0;34m(source)\u001b[0m\n\u001b[1;32m    210\u001b[0m \u001b[38;5;28;01mif\u001b[39;00m \u001b[38;5;28misinstance\u001b[39m(source, (\u001b[38;5;28mstr\u001b[39m, Path)):\n\u001b[1;32m    211\u001b[0m     source \u001b[38;5;241m=\u001b[39m normalize_filepath(source)\n\u001b[0;32m--> 213\u001b[0m \u001b[38;5;28;01mreturn\u001b[39;00m \u001b[43m_read_parquet_schema\u001b[49m\u001b[43m(\u001b[49m\u001b[43msource\u001b[49m\u001b[43m)\u001b[49m\n",
      "\u001b[0;31mFileNotFoundError\u001b[0m: No such file or directory (os error 2): ../tmp/dkn/test/articles.parquet"
     ]
    }
   ],
   "source": [
    "from group_33.util import train_test_split\n",
    "pl.Config.set_streaming_chunk_size(500_000)\n",
    "force_reload = False\n",
    "\n",
    "if not train_file.exists() or force_reload:\n",
    "    train = transform_behaviors(pl.scan_parquet(data_path / 'train' / 'behaviors.parquet'))\n",
    "    train.sink_csv(train_file, separator=' ', quote_style='never', include_header=False)\n",
    "    # train_test.collect(streaming=True).write_csv(valid_file, separator=' ', quote_style='never', include_header=False)\n",
    "\n",
    "if not evaluation_file.exists() or force_reload:\n",
    "    validation_behaviors = pl.scan_parquet(data_path / 'validation' / 'behaviors.parquet')\n",
    "    validation, evaluation = train_test_split(validation_behaviors, 0.5)\n",
    "\n",
    "    validation_transformed = transform_behaviors(validation)\n",
    "    validation_transformed.collect(streaming=True).write_csv(evaluation_file, separator=' ', quote_style='never', include_header=False)\n",
    "\n",
    "    evaluation_transformed = transform_behaviors(evaluation)\n",
    "    evaluation_transformed.collect(streaming=True).write_csv(valid_file, separator=' ', quote_style='never', include_header=False)\n",
    "\n",
    "if not user_history_file.exists() or force_reload:\n",
    "    user_history = transform_history(\n",
    "        data_path / 'train' / 'history.parquet',\n",
    "        data_path / 'validation' / 'history.parquet',\n",
    "        data_path / '..' / 'ebnerd_testset' / 'test' / 'history.parquet'\n",
    "    )\n",
    "    user_history.sink_csv(user_history_file, separator=' ', quote_style='never', include_header=False)\n",
    "\n",
    "if not articles_tokenized_file.exists() or force_reload:\n",
    "    tokenize_articles(articles_file, articles_tokenized_file)\n",
    "\n",
    "if not test_articles_tokenized_file.exists() or force_reload:\n",
    "    tokenize_articles(test_articles_file, test_articles_tokenized_file)\n",
    "\n",
    "if not news_feature_file.exists() or force_reload:\n",
    "    create_feature_file(\n",
    "        tmp_path / \"model.bin\",\n",
    "        articles_tokenized_file, test_articles_tokenized_file,\n",
    "        word_embeddings_file, entity_embeddings_file,\n",
    "        context_embeddings_file, news_feature_file, 10\n",
    "    )"
   ]
  },
  {
   "cell_type": "markdown",
   "id": "8d96ceba",
   "metadata": {},
   "source": [
    "## Create hyper-parameters"
   ]
  },
  {
   "cell_type": "code",
   "execution_count": null,
   "id": "7f2c8e69",
   "metadata": {},
   "outputs": [],
   "source": [
    "yaml_file = maybe_download(url=\"https://recodatasets.z20.web.core.windows.net/deeprec/deeprec/dkn/dkn_MINDsmall.yaml\",\n",
    "                           work_directory=data_path)\n",
    "hparams = prepare_hparams(yaml_file,\n",
    "                          seed=33,\n",
    "                          show_step=100,\n",
    "                          news_feature_file=news_feature_file.as_posix(),\n",
    "                          user_history_file=user_history_file.as_posix(),\n",
    "                          wordEmb_file=word_embeddings_file.as_posix(),\n",
    "                          entityEmb_file=entity_embeddings_file.as_posix(),\n",
    "                          contextEmb_file=context_embeddings_file.as_posix(),\n",
    "                          epochs=epochs,\n",
    "                          save_model=True,\n",
    "                          MODEL_DIR=(tmp_path / \"model\" / f\"{int(time())}_e{epochs}_h{history_size}\").as_posix(),\n",
    "                          history_size=history_size,\n",
    "                          batch_size=batch_size)"
   ]
  },
  {
   "cell_type": "markdown",
   "id": "c30eebf3",
   "metadata": {},
   "source": [
    "## Train the DKN model"
   ]
  },
  {
   "cell_type": "code",
   "execution_count": null,
   "id": "e60fe3f5",
   "metadata": {},
   "outputs": [],
   "source": [
    "model = DKN(hparams, DKNTextIterator)"
   ]
  },
  {
   "cell_type": "markdown",
   "id": "9006ce52",
   "metadata": {},
   "source": [
    "small:   2_585_747\n",
    "large: 133_810_641\n",
    "--> factor of 51 between small & large\n",
    "\n",
    "on small:\n",
    "    batch 1000 -> 2600 steps\n",
    "    hist 50\n",
    "    takes 50 min / epoch\n",
    "\n",
    "on small:\n",
    "    batch 1000\n",
    "    hist 5\n",
    "    takes 10 min / epoch\n"
   ]
  },
  {
   "cell_type": "code",
   "execution_count": null,
   "id": "72a04b98",
   "metadata": {
    "lines_to_next_cell": 2
   },
   "outputs": [],
   "source": [
    "if run_train:\n",
    "    model.fit(train_file, valid_file)\n",
    "else:\n",
    "    model.load_model(\"../tmp/model/epoch_10\")"
   ]
  },
  {
   "cell_type": "markdown",
   "id": "2124a8e1",
   "metadata": {},
   "source": [
    "## Evaluate the DKN model"
   ]
  },
  {
   "cell_type": "code",
   "execution_count": null,
   "id": "7ed5b5a3",
   "metadata": {
    "lines_to_next_cell": 0
   },
   "outputs": [],
   "source": [
    "res = model.run_eval(str(evaluation_file))\n",
    "print(res)"
   ]
  },
  {
   "cell_type": "markdown",
   "id": "d386b63e",
   "metadata": {
    "lines_to_next_cell": 0
   },
   "source": [
    "## Predict for RecSys Challenge Testdata"
   ]
  },
  {
   "cell_type": "code",
   "execution_count": null,
   "id": "31eb9712",
   "metadata": {},
   "outputs": [],
   "source": [
    "\n",
    "if not Path(test_file).exists():\n",
    "    transform_behaviors_test(str(test_raw_file), indexed_behaviors_file, test_file)"
   ]
  },
  {
   "cell_type": "code",
   "execution_count": null,
   "id": "b472ec5f",
   "metadata": {},
   "outputs": [],
   "source": [
    "model.predict(str(test_file), scores_file)"
   ]
  },
  {
   "cell_type": "markdown",
   "id": "220795b4",
   "metadata": {},
   "source": [
    "Index the raw data to make reconstructing the original order of test samples possible for the predicitons."
   ]
  },
  {
   "cell_type": "code",
   "execution_count": 1,
   "id": "1a6044bf",
   "metadata": {
    "lines_to_next_cell": 0
   },
   "outputs": [
    {
     "ename": "NameError",
     "evalue": "name 'calculate_rankings' is not defined",
     "output_type": "error",
     "traceback": [
      "\u001b[0;31m---------------------------------------------------------------------------\u001b[0m",
      "\u001b[0;31mNameError\u001b[0m                                 Traceback (most recent call last)",
      "Cell \u001b[0;32mIn[1], line 2\u001b[0m\n\u001b[1;32m      1\u001b[0m \u001b[38;5;66;03m# combine scores with impression id\u001b[39;00m\n\u001b[0;32m----> 2\u001b[0m rankings \u001b[38;5;241m=\u001b[39m \u001b[43mcalculate_rankings\u001b[49m(test_raw_file, indexed_behaviors_file, scores_file)\n\u001b[1;32m      3\u001b[0m rankings\u001b[38;5;241m.\u001b[39mhead()\u001b[38;5;241m.\u001b[39mcollect(streaming\u001b[38;5;241m=\u001b[39m\u001b[38;5;28;01mTrue\u001b[39;00m)\n",
      "\u001b[0;31mNameError\u001b[0m: name 'calculate_rankings' is not defined"
     ]
    }
   ],
   "source": [
    "# combine scores with impression id\n",
    "rankings = calculate_rankings(indexed_behaviors_file, scores_file)\n",
    "rankings.write_csv(predictions_file, separator=\" \", include_header=False)\n",
    "print(f\"Created predictions file at {predictions_file}\")"
   ]
  },
  {
   "cell_type": "markdown",
   "id": "57e37740",
   "metadata": {},
   "source": [
    "Sort the rankings by the original order (given by the index) and persist the resulting rankings.\n",
    "\n"
   ]
  },
  {
   "cell_type": "code",
   "execution_count": null,
   "id": "4a7abc79",
   "metadata": {
    "lines_to_next_cell": 2
   },
   "outputs": [],
   "source": [
    "# Check if produced prediction matches with original impression row order\n",
    "# (pl.scan_parquet(test_raw_file)\n",
    "#     .select(\"impression_id\", \"article_ids_inview\")\n",
    "#     .with_row_index()\n",
    "#     .with_columns(pl.col(\"article_ids_inview\").map_elements(lambda el: len(el)).alias(\"len_a_ids\"))\n",
    "#    # .filter(pl.col(\"impression_id\") == 0)\n",
    "# ).collect().head(1)"
   ]
  },
  {
   "cell_type": "code",
   "execution_count": null,
   "id": "57f6e659",
   "metadata": {},
   "outputs": [],
   "source": [
    "# d = (pl.scan_csv(test_file, has_header=False, separator=' ')\n",
    "#     .filter(pl.col(\"column_3\").str.contains(\"6451383\"))\n",
    "# \n",
    "# )\n",
    "#     \n",
    "# d.collect()"
   ]
  },
  {
   "cell_type": "markdown",
   "id": "bd30d71a",
   "metadata": {},
   "source": [
    "## Document embedding inference API\n",
    "\n",
    "After training, you can get document embedding through this document embedding inference API. The input file format is same with document feature file. The output file fomrat is: `[Newsid] [embedding]`"
   ]
  },
  {
   "cell_type": "code",
   "execution_count": null,
   "id": "70f4c76e",
   "metadata": {},
   "outputs": [],
   "source": [
    "model.run_get_embedding(news_feature_file, infer_embedding_file)"
   ]
  },
  {
   "cell_type": "markdown",
   "id": "b80dc82a",
   "metadata": {},
   "source": [
    "## Results on large MIND dataset\n",
    "\n",
    "Here are performances using the large MIND dataset (1,000,000 users, 161,013 news articles and 15,777,377 impression logs).\n",
    "\n",
    "| Models | g-AUC | MRR |NDCG@5 | NDCG@10 |\n",
    "| :------| :------: | :------: | :------: | :------ |\n",
    "| LibFM | 0.5993 | 0.2823 | 0.3005 | 0.3574 |\n",
    "| Wide&Deep | 0.6216 | 0.2931 | 0.3138 | 0.3712 |\n",
    "| DKN | 0.6436 | 0.3128 | 0.3371 | 0.3908|\n",
    "\n",
    "\n",
    "Note that the results of DKN are using Microsoft recommender and the results of the first two models come from the MIND paper \\[3\\].\n",
    "We compare the results on the same test dataset.\n",
    "\n",
    "One epoch takes 6381.3s (5066.6s for training, 1314.7s for evaluating) for DKN on GPU. Hardware specification for running the large dataset: <br>\n",
    "GPU: Tesla P100-PCIE-16GB <br>\n",
    "CPU: 6 cores Intel(R) Xeon(R) CPU E5-2690 v4 @ 2.60GHz"
   ]
  },
  {
   "cell_type": "markdown",
   "id": "82b6afdc",
   "metadata": {},
   "source": [
    "## References\n",
    "\n",
    "\\[1\\] Hongwei Wang, Fuzheng Zhang, Xing Xie and Minyi Guo, \"DKN: Deep Knowledge-Aware Network for News Recommendation\", in Proceedings of the 2018 World Wide Web Conference (WWW), 2018, https://arxiv.org/abs/1801.08284. <br>\n",
    "\\[2\\] Knowledge Graph Embeddings including TransE, TransH, TransR and PTransE. https://github.com/thunlp/KB2E <br>\n",
    "\\[3\\] Fangzhao Wu et al., \"MIND: A Large-scale Dataset for News Recommendation\", Proceedings of the 58th Annual Meeting of the Association for Computational Linguistics, 2020, https://msnews.github.io/competition.html. <br>\n",
    "\\[4\\] GloVe: Global Vectors for Word Representation. https://nlp.stanford.edu/projects/glove/"
   ]
  }
 ],
 "metadata": {
  "kernelspec": {
   "display_name": "Python 3 (ipykernel)",
   "language": "python",
   "name": "python3"
  },
  "language_info": {
   "codemirror_mode": {
    "name": "ipython",
    "version": 3
   },
   "file_extension": ".py",
   "mimetype": "text/x-python",
   "name": "python",
   "nbconvert_exporter": "python",
   "pygments_lexer": "ipython3",
   "version": "3.11.6"
  }
 },
 "nbformat": 4,
 "nbformat_minor": 5
}
