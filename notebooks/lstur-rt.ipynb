{
    "cells": [
        {
            "cell_type": "markdown",
            "metadata": {},
            "source": [
                "<i>Copyright (c) Recommenders contributors.</i>\n",
                "\n",
                "<i>Licensed under the MIT License.</i>"
            ]
        },
        {
            "cell_type": "markdown",
            "metadata": {},
            "source": [
                "# LSTUR: Neural News Recommendation with Long- and Short-term User Representations\n",
                "LSTUR \\[1\\] is a news recommendation approach capturing users' both long-term preferences and short-term interests. The core of LSTUR is a news encoder and a user encoder.  In the news encoder, we learn representations of news from their titles. In user encoder, we propose to learn long-term\n",
                "user representations from the embeddings of their IDs. In addition, we propose to learn short-term user representations from their recently browsed news via GRU network. Besides, we propose two methods to combine\n",
                "long-term and short-term user representations. The first one is using the long-term user representation to initialize the hidden state of the GRU network in short-term user representation. The second one is concatenating both\n",
                "long- and short-term user representations as a unified user vector.\n",
                "\n",
                "## Properties of LSTUR:\n",
                "- LSTUR captures users' both long-term and short term preference.\n",
                "- It uses embeddings of users' IDs to learn long-term user representations.\n",
                "- It uses users' recently browsed news via GRU network to learn short-term user representations.\n",
                "\n",
                "## Data format:\n",
                "For quicker training and evaluaiton, we sample MINDdemo dataset of 5k users from [MIND small dataset](https://msnews.github.io/). The MINDdemo dataset has the same file format as MINDsmall and MINDlarge. If you want to try experiments on MINDsmall and MINDlarge, please change the dowload source. Select the MIND_type parameter from ['large', 'small', 'demo'] to choose dataset.\n",
                " \n",
                "**MINDdemo_train** is used for training, and **MINDdemo_dev** is used for evaluation. Training data and evaluation data are composed of a news file and a behaviors file. You can find more detailed data description in [MIND repo](https://github.com/msnews/msnews.github.io/blob/master/assets/doc/introduction.md)\n",
                "\n",
                "### news data\n",
                "This file contains news information including newsid, category, subcatgory, news title, news abstarct, news url and entities in news title, entities in news abstarct.\n",
                "One simple example: <br>\n",
                "\n",
                "`N46466\tlifestyle\tlifestyleroyals\tThe Brands Queen Elizabeth, Prince Charles, and Prince Philip Swear By\tShop the notebooks, jackets, and more that the royals can't live without.\thttps://www.msn.com/en-us/lifestyle/lifestyleroyals/the-brands-queen-elizabeth,-prince-charles,-and-prince-philip-swear-by/ss-AAGH0ET?ocid=chopendata\t[{\"Label\": \"Prince Philip, Duke of Edinburgh\", \"Type\": \"P\", \"WikidataId\": \"Q80976\", \"Confidence\": 1.0, \"OccurrenceOffsets\": [48], \"SurfaceForms\": [\"Prince Philip\"]}, {\"Label\": \"Charles, Prince of Wales\", \"Type\": \"P\", \"WikidataId\": \"Q43274\", \"Confidence\": 1.0, \"OccurrenceOffsets\": [28], \"SurfaceForms\": [\"Prince Charles\"]}, {\"Label\": \"Elizabeth II\", \"Type\": \"P\", \"WikidataId\": \"Q9682\", \"Confidence\": 0.97, \"OccurrenceOffsets\": [11], \"SurfaceForms\": [\"Queen Elizabeth\"]}]\t[]`\n",
                "<br>\n",
                "\n",
                "In general, each line in data file represents information of one piece of news: <br>\n",
                "\n",
                "`[News ID] [Category] [Subcategory] [News Title] [News Abstrct] [News Url] [Entities in News Title] [Entities in News Abstract] ...`\n",
                "\n",
                "<br>\n",
                "\n",
                "We generate a word_dict file to tranform words in news title to word indexes, and a embedding matrix is initted from pretrained glove embeddings.\n",
                "\n",
                "### behaviors data\n",
                "One simple example: <br>\n",
                "`1\tU82271\t11/11/2019 3:28:58 PM\tN3130 N11621 N12917 N4574 N12140 N9748\tN13390-0 N7180-0 N20785-0 N6937-0 N15776-0 N25810-0 N20820-0 N6885-0 N27294-0 N18835-0 N16945-0 N7410-0 N23967-0 N22679-0 N20532-0 N26651-0 N22078-0 N4098-0 N16473-0 N13841-0 N15660-0 N25787-0 N2315-0 N1615-0 N9087-0 N23880-0 N3600-0 N24479-0 N22882-0 N26308-0 N13594-0 N2220-0 N28356-0 N17083-0 N21415-0 N18671-0 N9440-0 N17759-0 N10861-0 N21830-0 N8064-0 N5675-0 N15037-0 N26154-0 N15368-1 N481-0 N3256-0 N20663-0 N23940-0 N7654-0 N10729-0 N7090-0 N23596-0 N15901-0 N16348-0 N13645-0 N8124-0 N20094-0 N27774-0 N23011-0 N14832-0 N15971-0 N27729-0 N2167-0 N11186-0 N18390-0 N21328-0 N10992-0 N20122-0 N1958-0 N2004-0 N26156-0 N17632-0 N26146-0 N17322-0 N18403-0 N17397-0 N18215-0 N14475-0 N9781-0 N17958-0 N3370-0 N1127-0 N15525-0 N12657-0 N10537-0 N18224-0`\n",
                "<br>\n",
                "\n",
                "In general, each line in data file represents one instance of an impression. The format is like: <br>\n",
                "\n",
                "`[Impression ID] [User ID] [Impression Time] [User Click History] [Impression News]`\n",
                "\n",
                "<br>\n",
                "\n",
                "User Click History is the user historical clicked news before Impression Time. Impression News is the displayed news in an impression, which format is:<br>\n",
                "\n",
                "`[News ID 1]-[label1] ... [News ID n]-[labeln]`\n",
                "\n",
                "<br>\n",
                "Label represents whether the news is clicked by the user. All information of news in User Click History and Impression News can be found in news data file."
            ]
        },
        {
            "cell_type": "markdown",
            "metadata": {},
            "source": [
                "## Imports and Global settings"
            ]
        },
        {
            "cell_type": "code",
            "execution_count": 2,
            "metadata": {},
            "outputs": [
                {
                    "name": "stderr",
                    "output_type": "stream",
                    "text": [
                        "2024-06-15 09:33:23.100342: W tensorflow/compiler/tf2tensorrt/utils/py_utils.cc:38] TF-TRT Warning: Could not find TensorRT\n"
                    ]
                },
                {
                    "name": "stdout",
                    "output_type": "stream",
                    "text": [
                        "System version: 3.11.9 | packaged by conda-forge | (main, Apr 19 2024, 18:36:13) [GCC 12.3.0]\n",
                        "Tensorflow version: 2.15.1\n"
                    ]
                }
            ],
            "source": [
                "import os\n",
                "import sys\n",
                "import numpy as np\n",
                "import polars as pl\n",
                "import zipfile\n",
                "import logging\n",
                "from pathlib import Path\n",
                "from tqdm import tqdm\n",
                "import tensorflow as tf\n",
                "\n",
                "from recommenders.models.deeprec.deeprec_utils import download_deeprec_resources \n",
                "from recommenders.models.newsrec.newsrec_utils import prepare_hparams\n",
                "from recommenders.models.newsrec.models.lstur import LSTURModel\n",
                "from recommenders.models.newsrec.io.mind_iterator import MINDIterator\n",
                "from recommenders.models.newsrec.newsrec_utils import get_mind_data_set\n",
                "from recommenders.utils.notebook_utils import store_metadata\n",
                "\n",
                "print(\"System version: {}\".format(sys.version))\n",
                "print(\"Tensorflow version: {}\".format(tf.__version__))"
            ]
        },
        {
            "cell_type": "code",
            "execution_count": 3,
            "metadata": {},
            "outputs": [
                {
                    "data": {
                        "text/plain": [
                            "polars.config.Config"
                        ]
                    },
                    "execution_count": 3,
                    "metadata": {},
                    "output_type": "execute_result"
                }
            ],
            "source": [
                "# configurations\n",
                "tf.get_logger().setLevel('ERROR') # only show error messages\n",
                "\n",
                "logging.basicConfig(level=logging.INFO)\n",
                "LOG = logging.getLogger(__name__)\n",
                "LOG.setLevel(logging.INFO)\n",
                "\n",
                "pl.Config.set_tbl_rows(100)\n",
                "pl.Config.set_streaming_chunk_size(500_000)"
            ]
        },
        {
            "cell_type": "markdown",
            "metadata": {},
            "source": [
                "# Prepare Parameters and File Locations"
            ]
        },
        {
            "cell_type": "code",
            "execution_count": 15,
            "metadata": {
                "tags": [
                    "parameters"
                ]
            },
            "outputs": [],
            "source": [
                "# LSTUR parameters\n",
                "EPOCHS = 5\n",
                "SEED = 40\n",
                "BATCH_SIZE = 32\n",
                "\n",
                "FORCE_RELOAD = False\n",
                "\n",
                "DATASET_NAME = \"demo\" # one of: demo, small, large\n",
                "GROUP_PROJECT_PATH = '/home/e11920555/Group_33'"
            ]
        },
        {
            "cell_type": "code",
            "execution_count": 112,
            "metadata": {},
            "outputs": [
                {
                    "name": "stderr",
                    "output_type": "stream",
                    "text": [
                        "INFO:__main__:/home/e11920555/Group_33/data\n"
                    ]
                }
            ],
            "source": [
                "# dataset parquet files path\n",
                "data_path = Path(os.path.join(GROUP_PROJECT_PATH, \"data\"))\n",
                "train_behaviors_path = os.path.join(data_path, 'train', 'behaviors.parquet')\n",
                "train_history_path = os.path.join(data_path, 'train', 'history.parquet')\n",
                "val_behaviors_path = os.path.join(data_path, 'validation', 'behaviors.parquet')\n",
                "val_history_path = os.path.join(data_path, 'validation', 'history.parquet')\n",
                "articles_path = os.path.join(data_path, 'articles.parquet')\n",
                "embedding_path = os.path.join(data_path, 'artifacts', 'document_vector.parquet')\n",
                "\n",
                "# artifacts file path\n",
                "tmp_path = Path(os.path.join(GROUP_PROJECT_PATH, \"tmp\"))\n",
                "tmp_train_path = Path(os.path.join(tmp_path, DATASET_NAME, 'train'))\n",
                "tmp_val_path = Path(os.path.join(tmp_path, DATASET_NAME, 'val'))\n",
                "tmp_eval_path = Path(os.path.join(tmp_path, DATASET_NAME, 'eval'))\n",
                "\n",
                "(tmp_train_path).mkdir(exist_ok=True, parents=True)\n",
                "(tmp_val_path).mkdir(exist_ok=True, parents=True)\n",
                "(tmp_eval_path).mkdir(exist_ok=True, parents=True)\n",
                "\n",
                "train_news_file = os.path.join(tmp_train_path, 'news.tsv')\n",
                "train_behaviors_file = os.path.join(tmp_train_path, 'behaviors.tsv')\n",
                "val_news_file = os.path.join(tmp_val_path, 'news.tsv')\n",
                "val_behaviors_file = os.path.join(tmp_val_path, 'behaviors.tsv')\n",
                "eval_behaviors_file = os.path.join(tmp_eval_path, 'behaviors.tsv')\n",
                "yaml_file = os.path.join(tmp_path, 'lstur.yaml')\n",
                "\n",
                "LOG.info(data_path)"
            ]
        },
        {
            "cell_type": "code",
            "execution_count": 115,
            "metadata": {},
            "outputs": [
                {
                    "data": {
                        "text/html": [
                            "<div><style>\n",
                            ".dataframe > thead > tr,\n",
                            ".dataframe > tbody > tr {\n",
                            "  text-align: right;\n",
                            "  white-space: pre-wrap;\n",
                            "}\n",
                            "</style>\n",
                            "<small>shape: (125_541, 2)</small><table border=\"1\" class=\"dataframe\"><thead><tr><th>article_id</th><th>document_vector</th></tr><tr><td>i32</td><td>list[f32]</td></tr></thead><tbody><tr><td>3000022</td><td>[0.065424, -0.047425, … 0.035706]</td></tr><tr><td>3000063</td><td>[0.028815, -0.000166, … 0.027167]</td></tr><tr><td>3000613</td><td>[0.037971, 0.033923, … 0.063961]</td></tr><tr><td>3000700</td><td>[0.046524, 0.002913, … 0.023423]</td></tr><tr><td>3000840</td><td>[0.014737, 0.024068, … 0.045991]</td></tr><tr><td>3001278</td><td>[0.014249, -0.026272, … 0.068203]</td></tr><tr><td>3001299</td><td>[0.046163, -0.034065, … 0.01523]</td></tr><tr><td>3001353</td><td>[0.055219, 0.011371, … 0.007982]</td></tr><tr><td>3001457</td><td>[0.057401, 0.018003, … 0.023905]</td></tr><tr><td>3001459</td><td>[0.023249, -0.062233, … -0.002709]</td></tr><tr><td>3001724</td><td>[0.048676, -0.009038, … 0.059331]</td></tr><tr><td>3001899</td><td>[0.037212, -0.026194, … 0.005947]</td></tr><tr><td>3002265</td><td>[-0.001054, -0.016185, … 0.00784]</td></tr><tr><td>3002293</td><td>[0.01361, -0.031754, … 0.022677]</td></tr><tr><td>3002673</td><td>[0.02726, -0.04123, … 0.012508]</td></tr><tr><td>3002698</td><td>[0.014734, 0.007308, … -0.024195]</td></tr><tr><td>3002728</td><td>[-0.003015, 0.009725, … -0.009564]</td></tr><tr><td>3003065</td><td>[0.036996, 0.010496, … 0.0377]</td></tr><tr><td>3005322</td><td>[-0.016603, -0.044979, … 0.02938]</td></tr><tr><td>3005351</td><td>[0.030043, 0.014314, … 0.069532]</td></tr><tr><td>3005429</td><td>[0.014766, -0.074695, … 0.043321]</td></tr><tr><td>3005666</td><td>[0.023681, 0.022913, … -0.011104]</td></tr><tr><td>3005944</td><td>[0.054074, 0.017137, … 0.041458]</td></tr><tr><td>3006137</td><td>[-0.000276, 0.003256, … 0.079922]</td></tr><tr><td>3006206</td><td>[0.114115, 0.00947, … 0.04868]</td></tr><tr><td>3006564</td><td>[0.058148, -0.015562, … 0.043934]</td></tr><tr><td>3006570</td><td>[0.012804, 0.002001, … 0.007869]</td></tr><tr><td>3006688</td><td>[0.012438, -0.037069, … 0.014695]</td></tr><tr><td>3006753</td><td>[0.011718, -0.052405, … 0.040713]</td></tr><tr><td>3006858</td><td>[0.005663, -0.031191, … 0.017796]</td></tr><tr><td>3006894</td><td>[0.015717, -0.002101, … 0.059613]</td></tr><tr><td>3006920</td><td>[0.062811, 0.013893, … 0.010858]</td></tr><tr><td>3006924</td><td>[0.021825, -0.044295, … -0.001457]</td></tr><tr><td>3006946</td><td>[0.054949, -0.007009, … 0.038747]</td></tr><tr><td>3007076</td><td>[-0.01127, -0.04605, … 0.049018]</td></tr><tr><td>3009372</td><td>[0.021289, -0.011414, … 0.00584]</td></tr><tr><td>3009409</td><td>[0.020898, 0.002776, … 0.018948]</td></tr><tr><td>3009411</td><td>[-0.022266, -0.017783, … 0.056149]</td></tr><tr><td>3009464</td><td>[0.062313, -0.02516, … 0.063345]</td></tr><tr><td>3012224</td><td>[0.071536, 0.010825, … 0.03479]</td></tr><tr><td>3012454</td><td>[0.043561, -0.050449, … 0.009464]</td></tr><tr><td>3012614</td><td>[0.07096, 0.034725, … 0.022324]</td></tr><tr><td>3012771</td><td>[0.037297, -0.007839, … 0.062801]</td></tr><tr><td>3012916</td><td>[0.078369, 0.015861, … 0.038265]</td></tr><tr><td>3013001</td><td>[0.011918, -0.063545, … 0.018209]</td></tr><tr><td>3013452</td><td>[0.012151, -0.055855, … 0.024371]</td></tr><tr><td>3013577</td><td>[0.000045, -0.011689, … 0.002345]</td></tr><tr><td>3014138</td><td>[0.02735, -0.027385, … 0.027881]</td></tr><tr><td>3014446</td><td>[-0.008195, -0.040371, … 0.079479]</td></tr><tr><td>3014621</td><td>[0.022321, 0.01682, … -0.033849]</td></tr><tr><td>&hellip;</td><td>&hellip;</td></tr><tr><td>9802836</td><td>[0.008074, 0.054267, … 0.017505]</td></tr><tr><td>9802841</td><td>[0.037472, 0.031798, … 0.068748]</td></tr><tr><td>9802878</td><td>[-0.01842, -0.039976, … 0.030357]</td></tr><tr><td>9802881</td><td>[0.001566, 0.018437, … 0.012419]</td></tr><tr><td>9802907</td><td>[0.052436, -0.032371, … 0.020503]</td></tr><tr><td>9802911</td><td>[-0.009115, 0.073631, … 0.060702]</td></tr><tr><td>9802918</td><td>[-0.021145, -0.040534, … 0.046493]</td></tr><tr><td>9802941</td><td>[0.01361, -0.019626, … 0.025071]</td></tr><tr><td>9802949</td><td>[0.052967, -0.005933, … 0.02484]</td></tr><tr><td>9802950</td><td>[0.021785, -0.020317, … -0.024222]</td></tr><tr><td>9802962</td><td>[0.036447, -0.000291, … 0.009909]</td></tr><tr><td>9802964</td><td>[0.021346, -0.032261, … 0.0524]</td></tr><tr><td>9802972</td><td>[0.049013, -0.016807, … 0.039343]</td></tr><tr><td>9802991</td><td>[-0.010561, -0.076146, … 0.064079]</td></tr><tr><td>9803008</td><td>[0.010221, -0.003686, … -0.012901]</td></tr><tr><td>9803018</td><td>[0.008002, -0.033018, … 0.033388]</td></tr><tr><td>9803030</td><td>[0.01594, -0.049961, … 0.02264]</td></tr><tr><td>9803052</td><td>[0.00063, 0.008729, … 0.029673]</td></tr><tr><td>9803058</td><td>[0.051257, -0.020695, … 0.056821]</td></tr><tr><td>9803069</td><td>[0.07343, 0.007001, … 0.03412]</td></tr><tr><td>9803071</td><td>[0.0247, -0.04254, … 0.031826]</td></tr><tr><td>9803086</td><td>[-0.0116, 0.02802, … -0.005697]</td></tr><tr><td>9803131</td><td>[0.003328, 0.031608, … 0.027884]</td></tr><tr><td>9803140</td><td>[-0.044136, -0.028244, … 0.097229]</td></tr><tr><td>9803141</td><td>[0.006065, -0.003753, … 0.022985]</td></tr><tr><td>9803162</td><td>[0.054562, -0.022475, … 0.003272]</td></tr><tr><td>9803178</td><td>[0.040463, -0.007188, … 0.013827]</td></tr><tr><td>9803183</td><td>[0.011705, -0.011425, … 0.048416]</td></tr><tr><td>9803195</td><td>[0.067375, 0.048779, … 0.039778]</td></tr><tr><td>9803202</td><td>[0.07804, 0.043376, … 0.021447]</td></tr><tr><td>9803230</td><td>[0.048905, -0.036717, … 0.033088]</td></tr><tr><td>9803250</td><td>[0.008895, -0.050055, … 0.000694]</td></tr><tr><td>9803274</td><td>[0.015981, 0.001296, … 0.022477]</td></tr><tr><td>9803281</td><td>[0.030901, -0.016673, … -0.004358]</td></tr><tr><td>9803285</td><td>[0.00372, -0.028746, … 0.054327]</td></tr><tr><td>9803309</td><td>[0.006159, -0.034058, … 0.037957]</td></tr><tr><td>9803333</td><td>[0.02109, 0.00203, … 0.036147]</td></tr><tr><td>9803356</td><td>[0.022587, -0.002763, … 0.049717]</td></tr><tr><td>9803384</td><td>[0.019719, 0.032729, … 0.036032]</td></tr><tr><td>9803399</td><td>[0.007705, -0.022032, … 0.015969]</td></tr><tr><td>9803408</td><td>[-0.003242, 0.015147, … -0.024561]</td></tr><tr><td>9803418</td><td>[0.066568, -0.034439, … 0.042689]</td></tr><tr><td>9803453</td><td>[0.025972, 0.00562, … -0.029234]</td></tr><tr><td>9803455</td><td>[0.010386, 0.040416, … 0.030992]</td></tr><tr><td>9803492</td><td>[0.006668, 0.045601, … 0.008664]</td></tr><tr><td>9803505</td><td>[0.029625, -0.039833, … 0.027569]</td></tr><tr><td>9803510</td><td>[-0.028472, -0.035652, … 0.076147]</td></tr><tr><td>9803525</td><td>[0.039465, 0.000797, … 0.006269]</td></tr><tr><td>9803560</td><td>[0.004919, 0.013736, … 0.019682]</td></tr><tr><td>9803607</td><td>[0.000514, -0.046943, … 0.01131]</td></tr></tbody></table></div>"
                        ],
                        "text/plain": [
                            "shape: (125_541, 2)\n",
                            "┌────────────┬───────────────────────────────────┐\n",
                            "│ article_id ┆ document_vector                   │\n",
                            "│ ---        ┆ ---                               │\n",
                            "│ i32        ┆ list[f32]                         │\n",
                            "╞════════════╪═══════════════════════════════════╡\n",
                            "│ 3000022    ┆ [0.065424, -0.047425, … 0.035706… │\n",
                            "│ 3000063    ┆ [0.028815, -0.000166, … 0.027167… │\n",
                            "│ 3000613    ┆ [0.037971, 0.033923, … 0.063961]  │\n",
                            "│ 3000700    ┆ [0.046524, 0.002913, … 0.023423]  │\n",
                            "│ 3000840    ┆ [0.014737, 0.024068, … 0.045991]  │\n",
                            "│ 3001278    ┆ [0.014249, -0.026272, … 0.068203… │\n",
                            "│ 3001299    ┆ [0.046163, -0.034065, … 0.01523]  │\n",
                            "│ 3001353    ┆ [0.055219, 0.011371, … 0.007982]  │\n",
                            "│ 3001457    ┆ [0.057401, 0.018003, … 0.023905]  │\n",
                            "│ 3001459    ┆ [0.023249, -0.062233, … -0.00270… │\n",
                            "│ 3001724    ┆ [0.048676, -0.009038, … 0.059331… │\n",
                            "│ 3001899    ┆ [0.037212, -0.026194, … 0.005947… │\n",
                            "│ 3002265    ┆ [-0.001054, -0.016185, … 0.00784… │\n",
                            "│ 3002293    ┆ [0.01361, -0.031754, … 0.022677]  │\n",
                            "│ 3002673    ┆ [0.02726, -0.04123, … 0.012508]   │\n",
                            "│ 3002698    ┆ [0.014734, 0.007308, … -0.024195… │\n",
                            "│ 3002728    ┆ [-0.003015, 0.009725, … -0.00956… │\n",
                            "│ 3003065    ┆ [0.036996, 0.010496, … 0.0377]    │\n",
                            "│ 3005322    ┆ [-0.016603, -0.044979, … 0.02938… │\n",
                            "│ 3005351    ┆ [0.030043, 0.014314, … 0.069532]  │\n",
                            "│ 3005429    ┆ [0.014766, -0.074695, … 0.043321… │\n",
                            "│ 3005666    ┆ [0.023681, 0.022913, … -0.011104… │\n",
                            "│ 3005944    ┆ [0.054074, 0.017137, … 0.041458]  │\n",
                            "│ 3006137    ┆ [-0.000276, 0.003256, … 0.079922… │\n",
                            "│ 3006206    ┆ [0.114115, 0.00947, … 0.04868]    │\n",
                            "│ 3006564    ┆ [0.058148, -0.015562, … 0.043934… │\n",
                            "│ 3006570    ┆ [0.012804, 0.002001, … 0.007869]  │\n",
                            "│ 3006688    ┆ [0.012438, -0.037069, … 0.014695… │\n",
                            "│ 3006753    ┆ [0.011718, -0.052405, … 0.040713… │\n",
                            "│ 3006858    ┆ [0.005663, -0.031191, … 0.017796… │\n",
                            "│ 3006894    ┆ [0.015717, -0.002101, … 0.059613… │\n",
                            "│ 3006920    ┆ [0.062811, 0.013893, … 0.010858]  │\n",
                            "│ 3006924    ┆ [0.021825, -0.044295, … -0.00145… │\n",
                            "│ 3006946    ┆ [0.054949, -0.007009, … 0.038747… │\n",
                            "│ 3007076    ┆ [-0.01127, -0.04605, … 0.049018]  │\n",
                            "│ 3009372    ┆ [0.021289, -0.011414, … 0.00584]  │\n",
                            "│ 3009409    ┆ [0.020898, 0.002776, … 0.018948]  │\n",
                            "│ 3009411    ┆ [-0.022266, -0.017783, … 0.05614… │\n",
                            "│ 3009464    ┆ [0.062313, -0.02516, … 0.063345]  │\n",
                            "│ 3012224    ┆ [0.071536, 0.010825, … 0.03479]   │\n",
                            "│ 3012454    ┆ [0.043561, -0.050449, … 0.009464… │\n",
                            "│ 3012614    ┆ [0.07096, 0.034725, … 0.022324]   │\n",
                            "│ 3012771    ┆ [0.037297, -0.007839, … 0.062801… │\n",
                            "│ 3012916    ┆ [0.078369, 0.015861, … 0.038265]  │\n",
                            "│ 3013001    ┆ [0.011918, -0.063545, … 0.018209… │\n",
                            "│ 3013452    ┆ [0.012151, -0.055855, … 0.024371… │\n",
                            "│ 3013577    ┆ [0.000045, -0.011689, … 0.002345… │\n",
                            "│ 3014138    ┆ [0.02735, -0.027385, … 0.027881]  │\n",
                            "│ 3014446    ┆ [-0.008195, -0.040371, … 0.07947… │\n",
                            "│ 3014621    ┆ [0.022321, 0.01682, … -0.033849]  │\n",
                            "│ …          ┆ …                                 │\n",
                            "│ 9802836    ┆ [0.008074, 0.054267, … 0.017505]  │\n",
                            "│ 9802841    ┆ [0.037472, 0.031798, … 0.068748]  │\n",
                            "│ 9802878    ┆ [-0.01842, -0.039976, … 0.030357… │\n",
                            "│ 9802881    ┆ [0.001566, 0.018437, … 0.012419]  │\n",
                            "│ 9802907    ┆ [0.052436, -0.032371, … 0.020503… │\n",
                            "│ 9802911    ┆ [-0.009115, 0.073631, … 0.060702… │\n",
                            "│ 9802918    ┆ [-0.021145, -0.040534, … 0.04649… │\n",
                            "│ 9802941    ┆ [0.01361, -0.019626, … 0.025071]  │\n",
                            "│ 9802949    ┆ [0.052967, -0.005933, … 0.02484]  │\n",
                            "│ 9802950    ┆ [0.021785, -0.020317, … -0.02422… │\n",
                            "│ 9802962    ┆ [0.036447, -0.000291, … 0.009909… │\n",
                            "│ 9802964    ┆ [0.021346, -0.032261, … 0.0524]   │\n",
                            "│ 9802972    ┆ [0.049013, -0.016807, … 0.039343… │\n",
                            "│ 9802991    ┆ [-0.010561, -0.076146, … 0.06407… │\n",
                            "│ 9803008    ┆ [0.010221, -0.003686, … -0.01290… │\n",
                            "│ 9803018    ┆ [0.008002, -0.033018, … 0.033388… │\n",
                            "│ 9803030    ┆ [0.01594, -0.049961, … 0.02264]   │\n",
                            "│ 9803052    ┆ [0.00063, 0.008729, … 0.029673]   │\n",
                            "│ 9803058    ┆ [0.051257, -0.020695, … 0.056821… │\n",
                            "│ 9803069    ┆ [0.07343, 0.007001, … 0.03412]    │\n",
                            "│ 9803071    ┆ [0.0247, -0.04254, … 0.031826]    │\n",
                            "│ 9803086    ┆ [-0.0116, 0.02802, … -0.005697]   │\n",
                            "│ 9803131    ┆ [0.003328, 0.031608, … 0.027884]  │\n",
                            "│ 9803140    ┆ [-0.044136, -0.028244, … 0.09722… │\n",
                            "│ 9803141    ┆ [0.006065, -0.003753, … 0.022985… │\n",
                            "│ 9803162    ┆ [0.054562, -0.022475, … 0.003272… │\n",
                            "│ 9803178    ┆ [0.040463, -0.007188, … 0.013827… │\n",
                            "│ 9803183    ┆ [0.011705, -0.011425, … 0.048416… │\n",
                            "│ 9803195    ┆ [0.067375, 0.048779, … 0.039778]  │\n",
                            "│ 9803202    ┆ [0.07804, 0.043376, … 0.021447]   │\n",
                            "│ 9803230    ┆ [0.048905, -0.036717, … 0.033088… │\n",
                            "│ 9803250    ┆ [0.008895, -0.050055, … 0.000694… │\n",
                            "│ 9803274    ┆ [0.015981, 0.001296, … 0.022477]  │\n",
                            "│ 9803281    ┆ [0.030901, -0.016673, … -0.00435… │\n",
                            "│ 9803285    ┆ [0.00372, -0.028746, … 0.054327]  │\n",
                            "│ 9803309    ┆ [0.006159, -0.034058, … 0.037957… │\n",
                            "│ 9803333    ┆ [0.02109, 0.00203, … 0.036147]    │\n",
                            "│ 9803356    ┆ [0.022587, -0.002763, … 0.049717… │\n",
                            "│ 9803384    ┆ [0.019719, 0.032729, … 0.036032]  │\n",
                            "│ 9803399    ┆ [0.007705, -0.022032, … 0.015969… │\n",
                            "│ 9803408    ┆ [-0.003242, 0.015147, … -0.02456… │\n",
                            "│ 9803418    ┆ [0.066568, -0.034439, … 0.042689… │\n",
                            "│ 9803453    ┆ [0.025972, 0.00562, … -0.029234]  │\n",
                            "│ 9803455    ┆ [0.010386, 0.040416, … 0.030992]  │\n",
                            "│ 9803492    ┆ [0.006668, 0.045601, … 0.008664]  │\n",
                            "│ 9803505    ┆ [0.029625, -0.039833, … 0.027569… │\n",
                            "│ 9803510    ┆ [-0.028472, -0.035652, … 0.07614… │\n",
                            "│ 9803525    ┆ [0.039465, 0.000797, … 0.006269]  │\n",
                            "│ 9803560    ┆ [0.004919, 0.013736, … 0.019682]  │\n",
                            "│ 9803607    ┆ [0.000514, -0.046943, … 0.01131]  │\n",
                            "└────────────┴───────────────────────────────────┘"
                        ]
                    },
                    "execution_count": 115,
                    "metadata": {},
                    "output_type": "execute_result"
                }
            ],
            "source": [
                "df = pl.read_parquet(embedding_path)\n",
                "df"
            ]
        },
        {
            "cell_type": "markdown",
            "metadata": {},
            "source": [
                "## Transform parquet files"
            ]
        },
        {
            "cell_type": "code",
            "execution_count": 88,
            "metadata": {},
            "outputs": [],
            "source": [
                "COL_IMPRESSION_ID = 0\n",
                "COL_USER_ID = 8\n",
                "COL_IMPRESSION_TIME = 2\n",
                "COL_INVIEW_ARTICLE_IDS = 6\n",
                "COL_CLICKED_ARTICLE_IDS = 7\n",
                "\n",
                "def create_behavior_file(behaviors, history, file_path):\n",
                "    \n",
                "    # Transform history to a dictionary for fast lookup\n",
                "    user_history = {}\n",
                "    for row in history.iter_rows(named=True):\n",
                "        user_history[f\"U{row['user_id']}\"] = {\n",
                "            'article_id': row['article_id_fixed'],\n",
                "            'impression_time': row['impression_time_fixed']\n",
                "        }\n",
                "    \n",
                "    def transform_row(row):\n",
                "\n",
                "        impression_id = row[COL_IMPRESSION_ID]\n",
                "        user_id = f\"U{row[COL_USER_ID]}\"\n",
                "        impression_time = row[COL_IMPRESSION_TIME]\n",
                "        clicked_articles = user_history.get(user_id, {}).get('article_id', [])\n",
                "        timestamps = user_history.get(user_id, {}).get('impression_time', [])\n",
                "        \n",
                "        # Filter click history to include only clicks before the impression time\n",
                "        user_click_history = [\n",
                "            f\"N{article_id}\" for article_id, timestamp in zip(clicked_articles, timestamps) if timestamp < impression_time\n",
                "        ]\n",
                "        user_click_history_str = ' '.join(user_click_history)\n",
                "        \n",
                "        # Prepare impression news\n",
                "        inview_articles = row[COL_INVIEW_ARTICLE_IDS]\n",
                "        clicked_articles = row[COL_CLICKED_ARTICLE_IDS]\n",
                "        impression_news = [\n",
                "            f\"N{article_id}-{1 if article_id in clicked_articles else 0}\" for article_id in inview_articles\n",
                "        ]\n",
                "        impression_news_str = ' '.join(impression_news)\n",
                "        \n",
                "        return impression_id, user_id, impression_time, user_click_history_str, impression_news_str\n",
                "    \n",
                "\n",
                "    behavior_df = pl.DataFrame(behaviors.map_rows(transform_row))\n",
                "    behavior_df.columns = [\"Impression ID\", \"User ID\", \"Impression Time\", \"User Click History\", \"Impression News\"]\n",
                "    behavior_df.write_csv(file_path, quote_style='never', include_header=False, separator='\\t')"
            ]
        },
        {
            "cell_type": "code",
            "execution_count": 111,
            "metadata": {},
            "outputs": [
                {
                    "name": "stdout",
                    "output_type": "stream",
                    "text": [
                        "['article_id', 'title', 'subtitle', 'last_modified_time', 'premium', 'body', 'published_time', 'image_ids', 'article_type', 'url', 'ner_clusters', 'entity_groups', 'topics', 'category', 'subcategory', 'category_str', 'total_inviews', 'total_pageviews', 'total_read_time', 'sentiment_score', 'sentiment_label']\n"
                    ]
                }
            ],
            "source": [
                "# Process training data\n",
                "if not Path(train_behaviors_file).exists() or FORCE_RELOAD:\n",
                "    train_behaviors = pl.read_parquet(train_behaviors_path)\n",
                "    train_history = pl.read_parquet(train_history_path)\n",
                "    print(train_behaviors.columns)\n",
                "    print(train_history.columns)\n",
                "\n",
                "    behaviors_data = \\\n",
                "        create_behavior_file(train_behaviors, train_history, train_behaviors_file)\n",
                "    \n",
                "# `[News ID] [Category] [Subcategory] [News Title] [News Abstrct] [News Url] [Entities in News Title] [Entities in News Abstract] ...`\n",
                "\n",
                "# if not Path(train_news_file).exists() or FORCE_RELOAD:\n",
                "train_news = pl.read_parquet(articles_path)\n",
                "print(train_news.columns)\n",
                "\n",
                "train_news = train_news.select([\"article_id\", \"category_str\", \"title\", \"body\", \"url\"])\n",
                "train_news.write_csv(train_news_file, quote_style='never', include_header=False, separator='\\t')"
            ]
        },
        {
            "cell_type": "markdown",
            "metadata": {},
            "source": [
                "## Create hyper-parameters"
            ]
        },
        {
            "cell_type": "code",
            "execution_count": null,
            "metadata": {},
            "outputs": [],
            "source": [
                "hparams = prepare_hparams(yaml_file, \n",
                "                          wordEmb_file=wordEmb_file,\n",
                "                          wordDict_file=wordDict_file, \n",
                "                          userDict_file=userDict_file,\n",
                "                          batch_size=BATCH_SIZE,\n",
                "                          epochs=EPOCHS)\n",
                "print(hparams)"
            ]
        },
        {
            "cell_type": "code",
            "execution_count": null,
            "metadata": {},
            "outputs": [],
            "source": [
                "iterator = MINDIterator"
            ]
        },
        {
            "cell_type": "markdown",
            "metadata": {},
            "source": [
                "## Train the LSTUR model"
            ]
        },
        {
            "cell_type": "code",
            "execution_count": null,
            "metadata": {},
            "outputs": [],
            "source": [
                "model = LSTURModel(hparams, iterator, seed=SEED)"
            ]
        },
        {
            "cell_type": "code",
            "execution_count": null,
            "metadata": {},
            "outputs": [],
            "source": [
                "print(model.run_eval(valid_news_file, valid_behaviors_file))"
            ]
        },
        {
            "cell_type": "code",
            "execution_count": null,
            "metadata": {},
            "outputs": [],
            "source": [
                "%%time\n",
                "model.fit(train_news_file, train_behaviors_file, valid_news_file, valid_behaviors_file)"
            ]
        },
        {
            "cell_type": "code",
            "execution_count": null,
            "metadata": {},
            "outputs": [],
            "source": [
                "%%time\n",
                "res_syn = model.run_eval(valid_news_file, valid_behaviors_file)\n",
                "print(res_syn)"
            ]
        },
        {
            "cell_type": "code",
            "execution_count": null,
            "metadata": {},
            "outputs": [],
            "source": [
                "# Record results for tests - ignore this cell\n",
                "store_metadata(\"group_auc\", res_syn['group_auc'])\n",
                "store_metadata(\"mean_mrr\", res_syn['mean_mrr'])\n",
                "store_metadata(\"ndcg@5\", res_syn['ndcg@5'])\n",
                "store_metadata(\"ndcg@10\", res_syn['ndcg@10'])"
            ]
        },
        {
            "cell_type": "markdown",
            "metadata": {},
            "source": [
                "## Save the model"
            ]
        },
        {
            "cell_type": "code",
            "execution_count": null,
            "metadata": {},
            "outputs": [],
            "source": [
                "model_path = os.path.join(data_path, \"model\")\n",
                "os.makedirs(model_path, exist_ok=True)\n",
                "\n",
                "model.model.save_weights(os.path.join(model_path, \"lstur_ckpt\"))"
            ]
        },
        {
            "cell_type": "markdown",
            "metadata": {},
            "source": [
                "## Output Prediction File\n",
                "This code segment is used to generate the prediction.zip file, which is in the same format in [MIND Competition Submission Tutorial](https://competitions.codalab.org/competitions/24122#learn_the_details-submission-guidelines).\n",
                "\n",
                "Please change the `MIND_type` parameter to `large` if you want to submit your prediction to [MIND Competition](https://msnews.github.io/competition.html)."
            ]
        },
        {
            "cell_type": "code",
            "execution_count": null,
            "metadata": {},
            "outputs": [],
            "source": [
                "group_impr_indexes, group_labels, group_preds = model.run_fast_eval(valid_news_file, valid_behaviors_file)"
            ]
        },
        {
            "cell_type": "code",
            "execution_count": null,
            "metadata": {},
            "outputs": [],
            "source": [
                "with open(os.path.join(data_path, 'prediction.txt'), 'w') as f:\n",
                "    for impr_index, preds in tqdm(zip(group_impr_indexes, group_preds)):\n",
                "        impr_index += 1\n",
                "        pred_rank = (np.argsort(np.argsort(preds)[::-1]) + 1).tolist()\n",
                "        pred_rank = '[' + ','.join([str(i) for i in pred_rank]) + ']'\n",
                "        f.write(' '.join([str(impr_index), pred_rank])+ '\\n')"
            ]
        },
        {
            "cell_type": "code",
            "execution_count": null,
            "metadata": {},
            "outputs": [],
            "source": [
                "f = zipfile.ZipFile(os.path.join(data_path, 'prediction.zip'), 'w', zipfile.ZIP_DEFLATED)\n",
                "f.write(os.path.join(data_path, 'prediction.txt'), arcname='prediction.txt')\n",
                "f.close()"
            ]
        },
        {
            "cell_type": "markdown",
            "metadata": {},
            "source": [
                "## Reference\n",
                "\\[1\\] Mingxiao An, Fangzhao Wu, Chuhan Wu, Kun Zhang, Zheng Liu and Xing Xie: Neural News Recommendation with Long- and Short-term User Representations, ACL 2019<br>\n",
                "\\[2\\] Wu, Fangzhao, et al. \"MIND: A Large-scale Dataset for News Recommendation\" Proceedings of the 58th Annual Meeting of the Association for Computational Linguistics. https://msnews.github.io/competition.html <br>\n",
                "\\[3\\] GloVe: Global Vectors for Word Representation. https://nlp.stanford.edu/projects/glove/"
            ]
        }
    ],
    "metadata": {
        "celltoolbar": "Tags",
        "kernelspec": {
            "display_name": "recsys",
            "language": "python",
            "name": "recsys"
        }
    },
    "nbformat": 4,
    "nbformat_minor": 4
}
